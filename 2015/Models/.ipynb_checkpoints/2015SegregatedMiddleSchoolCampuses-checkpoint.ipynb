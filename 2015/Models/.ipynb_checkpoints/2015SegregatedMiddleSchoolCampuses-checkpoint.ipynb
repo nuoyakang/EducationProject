{
 "cells": [
  {
   "cell_type": "markdown",
   "metadata": {
    "deletable": true,
    "editable": true
   },
   "source": [
    "## Predicting the Minority Percentage for Public Schools\n",
    "**This notebook explores predicting the Minority Percentage for public high schools in North Carolina.** \n",
    "* Using **NO** racial composition data, can we predict the minority percentage for a public high school?\n",
    "* The North Carolina Educational Attainment Data Repository for Machine Learning is located on Github at: https://github.com/jakemdrew/EducationDataNC \n",
    "* Since the response variable is highly unbalanced we choose to set the *class_weight* parameter to 'balanced.  While this lowers overall accuracy, it almost doubles recall which is the model's ability to accurately identify highly segeregated schools. \n",
    "\n",
    "**For documentation on various Generalized Linear Models in Sklearn see:**\n",
    "* http://scikit-learn.org/stable/modules/linear_model.html\n",
    "* https://stackoverflow.com/questions/33845539/modelling-probabilities-in-a-regularized-logistic-regression-model-in-python"
   ]
  },
  {
   "cell_type": "code",
   "execution_count": 1,
   "metadata": {
    "collapsed": false,
    "deletable": true,
    "editable": true
   },
   "outputs": [
    {
     "name": "stdout",
     "output_type": "stream",
     "text": [
      "<class 'pandas.core.frame.DataFrame'>\n",
      "RangeIndex: 537 entries, 0 to 536\n",
      "Columns: 419 entries, student_num to unit_code\n",
      "dtypes: float64(318), int64(101)\n",
      "memory usage: 1.7 MB\n"
     ]
    }
   ],
   "source": [
    "#import required Libraries\n",
    "import pandas as pd\n",
    "import numpy as np\n",
    "\n",
    "#The 'path' variable may also be a URL pointing to the proper raw file path on github: \n",
    "#path=\"https://raw.githubusercontent.com/jakemdrew/EducationDataNC/master/2017/Machine%20Learning%20Datasets/PublicHighSchools2017_ML.csv\"\n",
    "\n",
    "path=\"C:/Users/Jake/Documents/GitHub/EducationDataNC/2015/Machine Learning Datasets/PublicMiddleSchools2015_ML.csv\"\n",
    "schData=pd.read_csv(path, low_memory=False)\n",
    "\n",
    "#inspect data \n",
    "schData.info(verbose=False)"
   ]
  },
  {
   "cell_type": "code",
   "execution_count": 2,
   "metadata": {
    "collapsed": false,
    "deletable": true,
    "editable": true
   },
   "outputs": [
    {
     "name": "stdout",
     "output_type": "stream",
     "text": [
      "<class 'pandas.core.frame.DataFrame'>\n",
      "RangeIndex: 537 entries, 0 to 536\n",
      "Columns: 2 entries, unit_code to MinorityPct\n",
      "dtypes: float64(1), int64(1)\n",
      "memory usage: 8.5 KB\n",
      "*********************************After: MinorityPct Added***********************\n",
      "<class 'pandas.core.frame.DataFrame'>\n",
      "Int64Index: 537 entries, 0 to 536\n",
      "Columns: 420 entries, student_num to MinorityPct\n",
      "dtypes: float64(319), int64(101)\n",
      "memory usage: 1.7 MB\n"
     ]
    }
   ],
   "source": [
    "#The MinorityPct field was removed from the _ML dataset for being highly correlated with other racial composition fields\n",
    "#We will merge it back in to the _ML dataset, since this is our response variable. \n",
    "path=\"C:/Users/Jake/Documents/GitHub/EducationDataNC/2015/School Datasets/PublicMiddleSchools2015.csv\"\n",
    "responseData=pd.read_csv(path, low_memory=False)\n",
    "\n",
    "responseData = responseData[['unit_code','MinorityPct']]\n",
    "\n",
    "#inspect data \n",
    "responseData.info(verbose=False)\n",
    "\n",
    "\n",
    "\n",
    "#Merge the response variable into our _ML data (schData)\n",
    "schData = schData.merge(responseData,how='left',on='unit_code', suffixes=('', '_Drop'))\n",
    "\n",
    "print('*********************************After: MinorityPct Added***********************')\n",
    "schData.info(verbose=False)"
   ]
  },
  {
   "cell_type": "code",
   "execution_count": 35,
   "metadata": {
    "collapsed": false,
    "deletable": true,
    "editable": true
   },
   "outputs": [
    {
     "data": {
      "image/png": "[encoded data removed]",
      "text/plain": [
       "<matplotlib.figure.Figure at 0x10fef080>"
      ]
     },
     "metadata": {},
     "output_type": "display_data"
    }
   ],
   "source": [
    "import seaborn as sns\n",
    "import matplotlib.pyplot as plt\n",
    "\n",
    "sns.set(color_codes=True)\n",
    "hst = sns.distplot(schData['MinorityPct'], kde=False)\n",
    "hst.set_xlabel(\"Campus Minority Percentage\")\n",
    "#Assign output of plt.xticks() to x to surpress xticks() function output \n",
    "_ = plt.xticks([0.1,0.2,0.3,0.4,0.5,0.6,0.7,0.8,0.9,0.10])\n",
    "_ = plt.title('Count of Public School Campuses By Minority Percentage ')"
   ]
  },
  {
   "cell_type": "code",
   "execution_count": 4,
   "metadata": {
    "collapsed": false,
    "deletable": true,
    "editable": true
   },
   "outputs": [
    {
     "data": {
      "text/plain": [
       "Index([u'EOCMathI_CACR_AmericanIndian', u'EOG/EOCSubjects_CACR_AmericanIndian',\n",
       "       u'EOGGr6_CACR_AmericanIndian', u'EOGGr7_CACR_AmericanIndian',\n",
       "       u'EOGGr8_CACR_AmericanIndian', u'EOGMathGr3-8_CACR_AmericanIndian',\n",
       "       u'EOGMathGr6_CACR_AmericanIndian', u'EOGMathGr7_CACR_AmericanIndian',\n",
       "       u'EOGMathGr8_CACR_AmericanIndian', u'EOGMathGr8_GLP_AmericanIndian',\n",
       "       u'EOGReadingGr3-8_CACR_AmericanIndian',\n",
       "       u'EOGReadingGr6_CACR_AmericanIndian',\n",
       "       u'EOGReadingGr7_CACR_AmericanIndian',\n",
       "       u'EOGReadingGr8_CACR_AmericanIndian',\n",
       "       u'EOGScienceGr5&8_CACR_AmericanIndian', u'EOCMathI_CACR_Asian',\n",
       "       u'EOG/EOCSubjects_CACR_Asian', u'EOGGr6_CACR_Asian',\n",
       "       u'EOGGr7_CACR_Asian', u'EOGGr8_CACR_Asian', u'EOGMathGr3-8_CACR_Asian',\n",
       "       u'EOGMathGr6_CACR_Asian', u'EOGMathGr7_CACR_Asian',\n",
       "       u'EOGMathGr8_CACR_Asian', u'EOCMathI_CACR_Black',\n",
       "       u'EOG/EOCSubjects_CACR_Black', u'EOGGr6_CACR_Black',\n",
       "       u'EOGGr7_CACR_Black', u'EOGGr8_CACR_Black', u'EOGMathGr3-8_CACR_Black',\n",
       "       u'EOGMathGr6_CACR_Black', u'EOGMathGr7_CACR_Black',\n",
       "       u'EOGMathGr8_CACR_Black', u'EOGReadingGr3-8_CACR_Black',\n",
       "       u'EOGReadingGr3-8_GLP_Black', u'EOGReadingGr6_CACR_Black',\n",
       "       u'EOGReadingGr7_CACR_Black', u'EOGReadingGr7_GLP_Black',\n",
       "       u'EOGReadingGr8_CACR_Black', u'EOGReadingGr8_GLP_Black',\n",
       "       u'EOGScienceGr5&8_CACR_Black', u'EOCMathI_CACR_Hispanic',\n",
       "       u'EOG/EOCSubjects_CACR_Hispanic', u'EOG/EOCSubjects_GLP_Hispanic',\n",
       "       u'EOGGr6_CACR_Hispanic', u'EOGGr7_CACR_Hispanic',\n",
       "       u'EOGGr8_CACR_Hispanic', u'EOGMathGr3-8_CACR_Hispanic',\n",
       "       u'EOGMathGr3-8_GLP_Hispanic', u'EOGMathGr6_CACR_Hispanic',\n",
       "       u'EOGMathGr6_GLP_Hispanic', u'EOGMathGr7_CACR_Hispanic',\n",
       "       u'EOGMathGr7_GLP_Hispanic', u'EOGMathGr8_CACR_Hispanic',\n",
       "       u'EOGMathGr8_GLP_Hispanic', u'EOGReadingGr3-8_CACR_Hispanic',\n",
       "       u'EOGReadingGr3-8_GLP_Hispanic', u'EOGReadingGr6_CACR_Hispanic',\n",
       "       u'EOGReadingGr6_GLP_Hispanic', u'EOGReadingGr7_CACR_Hispanic',\n",
       "       u'EOGReadingGr7_GLP_Hispanic', u'EOGReadingGr8_CACR_Hispanic',\n",
       "       u'EOGReadingGr8_GLP_Hispanic', u'EOGScienceGr5&8_CACR_Hispanic',\n",
       "       u'EOGScienceGr8_CACR_Hispanic', u'EOGSubjects_CACR_Hispanic',\n",
       "       u'EOGSubjects_GLP_Hispanic', u'EOCMathI_CACR_White',\n",
       "       u'EOG/EOCSubjects_CACR_White', u'EOGGr6_CACR_White',\n",
       "       u'EOGGr7_CACR_White', u'EOGGr8_CACR_White', u'EOGMathGr3-8_CACR_White',\n",
       "       u'EOGMathGr8_CACR_White', u'EOGReadingGr3-8_CACR_White',\n",
       "       u'EOGReadingGr6_CACR_White', u'EOGReadingGr8_CACR_White',\n",
       "       u'EOGScienceGr5&8_CACR_White', u'EOGScienceGr8_CACR_White',\n",
       "       u'AsianFemalePct', u'AsianMalePct', u'BlackFemalePct', u'BlackMalePct',\n",
       "       u'HispanicFemalePct', u'HispanicMalePct', u'IndianFemalePct',\n",
       "       u'MinorityFemalePct', u'MinorityMalePct', u'MinorityPct'],\n",
       "      dtype='object')"
      ]
     },
     "execution_count": 4,
     "metadata": {},
     "output_type": "execute_result"
    }
   ],
   "source": [
    "#Delete all racial composition data from our dataset. \n",
    "raceCompositionFields = ['Indian Male','Asian Male','Hispanic Male','Black Male','White Male'\n",
    "                         ,'Pacific Island Male','Pacific Island Female','Two or  More Male','Two or  More Female'\n",
    "                         ,'Pacific Island','Majority_Minority','White_Pct','Two or More']\n",
    "\n",
    "RaceCols = schData.columns[(schData.columns.str.lower().str.contains('indian')) | \n",
    "                           (schData.columns.str.lower().str.contains('asian')) |\n",
    "                           (schData.columns.str.lower().str.contains('hispanic')) |\n",
    "                           (schData.columns.str.lower().str.contains('black')) |\n",
    "                           (schData.columns.str.lower().str.contains('white')) |\n",
    "                           (schData.columns.str.lower().str.contains('pacific island')) |\n",
    "                           (schData.columns.str.lower().str.contains('two or  more')) |\n",
    "                           (schData.columns.str.lower().str.contains('minority'))]\n",
    "RaceCols"
   ]
  },
  {
   "cell_type": "code",
   "execution_count": 5,
   "metadata": {
    "collapsed": false,
    "deletable": true,
    "editable": true
   },
   "outputs": [
    {
     "name": "stdout",
     "output_type": "stream",
     "text": [
      "<class 'pandas.core.frame.DataFrame'>\n",
      "Int64Index: 537 entries, 0 to 536\n",
      "Columns: 331 entries, student_num to unit_code\n",
      "dtypes: float64(230), int64(101)\n",
      "memory usage: 1.4 MB\n"
     ]
    }
   ],
   "source": [
    "# create x explanatory and y response variables for regression\n",
    "Y_MinorityPct = schData['MinorityPct'] \n",
    "Y = Y_MinorityPct\n",
    "\n",
    "#Delete all racial composition data from our dataset.\n",
    "X_highSchools = schData.drop(RaceCols, axis=1)\n",
    "\n",
    "#inspect data \n",
    "X_highSchools.info()"
   ]
  },
  {
   "cell_type": "code",
   "execution_count": 6,
   "metadata": {
    "collapsed": true,
    "deletable": true,
    "editable": true
   },
   "outputs": [],
   "source": [
    "#Scale dataset converting to standard normally distributed data \n",
    "# (e.g. Gaussian with 0 mean and unit variance).\n",
    "#from sklearn.preprocessing import StandardScaler\n",
    "\n",
    "#Fit to data for scaling\n",
    "#scaler = StandardScaler()\n",
    "#scaler.fit(X_highSchools)\n",
    "\n",
    "#Transform training data to z-scores\n",
    "#This makes our model's coefficients take on the same scale for accurate feature importance analisys \n",
    "#X_highSchools = scaler.transform(X_highSchools)"
   ]
  },
  {
   "cell_type": "markdown",
   "metadata": {
    "deletable": true,
    "editable": true
   },
   "source": [
    "## Cross Validation\n",
    "**Cross validation is performed using repeated holdout using ShuffleSplit()**\n",
    "* Ten folds are used\n",
    "* The split is: 90% training data and 10% test data\n",
    "* A random seed is set so the same random test and training splits are used each time cross validation is performed."
   ]
  },
  {
   "cell_type": "code",
   "execution_count": 7,
   "metadata": {
    "collapsed": false,
    "deletable": true,
    "editable": true
   },
   "outputs": [],
   "source": [
    "#Divide data into test and training splits\n",
    "from sklearn.model_selection import ShuffleSplit\n",
    "cv = ShuffleSplit(n_splits=10, test_size=0.10, random_state=0)"
   ]
  },
  {
   "cell_type": "markdown",
   "metadata": {
    "deletable": true,
    "editable": true
   },
   "source": [
    "## Classifier Evaluation\n",
    "** The following function performs cross validation using cross_validate() for classification estimators and returns accuracy, precision, and recall.** "
   ]
  },
  {
   "cell_type": "code",
   "execution_count": 8,
   "metadata": {
    "collapsed": false,
    "deletable": true,
    "editable": true
   },
   "outputs": [],
   "source": [
    "from sklearn.model_selection import cross_validate\n",
    "\n",
    "def EvaluateClassifierEstimator(classifierEstimator, X, y, cv):\n",
    "   \n",
    "    #Perform cross validation \n",
    "    scores = cross_validate(classifierEstimator, X_highSchools, Y, scoring=['accuracy','precision','recall']\n",
    "                            , cv=cv, return_train_score=True)\n",
    "\n",
    "    Accavg = scores['test_accuracy'].mean()\n",
    "    Preavg = scores['test_precision'].mean()\n",
    "    Recavg = scores['test_recall'].mean()\n",
    "\n",
    "    print_str = \"The average accuracy for all cv folds is: \\t\\t\\t {Accavg:.5}\"\n",
    "    print_str2 = \"The average precision for all cv folds is: \\t\\t\\t {Preavg:.5}\"\n",
    "    print_str3 = \"The average recall for all cv folds is: \\t\\t\\t {Recavg:.5}\"\n",
    "\n",
    "    print(print_str.format(Accavg=Accavg))\n",
    "    print(print_str2.format(Preavg=Preavg))\n",
    "    print(print_str3.format(Recavg=Recavg))\n",
    "    print('*********************************************************')\n",
    "\n",
    "    print('Cross Validation Fold Mean Error Scores')\n",
    "    scoresResults = pd.DataFrame()\n",
    "    scoresResults['Accuracy'] = scores['test_accuracy']\n",
    "    scoresResults['Precision'] = scores['test_precision']\n",
    "    scoresResults['Recall'] = scores['test_recall']\n",
    "\n",
    "    return scoresResults\n",
    "\n",
    "def EvaluateClassifierEstimator2(classifierEstimator, X, y, cv):\n",
    "    \n",
    "    #Perform cross validation \n",
    "    from sklearn.model_selection import cross_val_predict\n",
    "    predictions = cross_val_predict(classifierEstimator, X_highSchools, Y, cv=cv)\n",
    "    \n",
    "    #model evaluation \n",
    "    from sklearn.metrics import classification_report, confusion_matrix, accuracy_score\n",
    "    \n",
    "    #pass true test set values and predictions to classification_report\n",
    "    classReport = classification_report(Y,predictions)\n",
    "    confMat = confusion_matrix(Y,predictions)\n",
    "    acc = accuracy_score(Y,predictions)\n",
    "    \n",
    "    print classReport\n",
    "    print confMat\n",
    "    print acc"
   ]
  },
  {
   "cell_type": "markdown",
   "metadata": {
    "collapsed": true,
    "deletable": true,
    "editable": true
   },
   "source": [
    "## Minority Percent - Logistic Regression \n",
    "**This model uses a Logistic Regression to classify public high schools as greater than 40% to 90% minorities. Please see documentation here: **\n",
    "* http://scikit-learn.org/stable/modules/generated/sklearn.linear_model.LogisticRegression.html"
   ]
  },
  {
   "cell_type": "code",
   "execution_count": 9,
   "metadata": {
    "collapsed": false,
    "deletable": true,
    "editable": true
   },
   "outputs": [
    {
     "name": "stdout",
     "output_type": "stream",
     "text": [
      "Fitting 10 folds for each of 14 candidates, totalling 140 fits\n"
     ]
    },
    {
     "name": "stderr",
     "output_type": "stream",
     "text": [
      "[Parallel(n_jobs=8)]: Done  34 tasks      | elapsed:   10.7s\n",
      "[Parallel(n_jobs=8)]: Done 140 out of 140 | elapsed:   20.5s finished\n"
     ]
    },
    {
     "data": {
      "text/plain": [
       "GridSearchCV(cv=ShuffleSplit(n_splits=10, random_state=0, test_size=0.1, train_size=None),\n",
       "       error_score='raise',\n",
       "       estimator=LogisticRegression(C=1.0, class_weight=None, dual=False, fit_intercept=True,\n",
       "          intercept_scaling=1, max_iter=100, multi_class='ovr', n_jobs=1,\n",
       "          penalty='l2', random_state=None, solver='liblinear', tol=0.0001,\n",
       "          verbose=0, warm_start=False),\n",
       "       fit_params=None, iid=True, n_jobs=8,\n",
       "       param_grid={'C': [0.001, 0.01, 0.1, 1, 10, 100, 1000], 'solver': ['lbfgs'], 'max_iter': [100, 500], 'penalty': ['l2'], 'random_state': [0], 'class_weight': ['balanced']},\n",
       "       pre_dispatch='2*n_jobs', refit=True, return_train_score='warn',\n",
       "       scoring='accuracy', verbose=1)"
      ]
     },
     "execution_count": 9,
     "metadata": {},
     "output_type": "execute_result"
    }
   ],
   "source": [
    "#Convert Y to a binary response variable \n",
    "Y = Y_MinorityPct >= 0.80\n",
    "\n",
    "#Logisitic regression 10-fold cross-validation \n",
    "from sklearn.linear_model import LogisticRegression\n",
    "regEstimator = LogisticRegression()\n",
    "\n",
    "\n",
    "parameters = { 'penalty':['l2']\n",
    "              ,'C': [0.001, 0.01, 0.1, 1, 10, 100, 1000]\n",
    "              ,'class_weight': ['balanced'] #,'none']\n",
    "              ,'random_state': [0]\n",
    "              ,'solver': ['lbfgs']\n",
    "              ,'max_iter':[100,500]\n",
    "             }\n",
    "\n",
    "#Create a grid search object using the  \n",
    "from sklearn.model_selection import GridSearchCV\n",
    "regGridSearch = GridSearchCV(estimator=regEstimator\n",
    "                   , n_jobs=8 # jobs to run in parallel\n",
    "                   , verbose=1 # low verbosity\n",
    "                   , param_grid=parameters\n",
    "                   , cv=cv # KFolds = 10\n",
    "                   , scoring='accuracy')\n",
    "\n",
    "#Perform hyperparameter search to find the best combination of parameters for our data\n",
    "regGridSearch.fit(X_highSchools, Y)"
   ]
  },
  {
   "cell_type": "code",
   "execution_count": 10,
   "metadata": {
    "collapsed": false,
    "deletable": true,
    "editable": true
   },
   "outputs": [
    {
     "data": {
      "text/plain": [
       "LogisticRegression(C=100, class_weight='balanced', dual=False,\n",
       "          fit_intercept=True, intercept_scaling=1, max_iter=500,\n",
       "          multi_class='ovr', n_jobs=1, penalty='l2', random_state=0,\n",
       "          solver='lbfgs', tol=0.0001, verbose=0, warm_start=False)"
      ]
     },
     "execution_count": 10,
     "metadata": {},
     "output_type": "execute_result"
    }
   ],
   "source": [
    "#Display the best estimator parameters\n",
    "regGridSearch.best_estimator_"
   ]
  },
  {
   "cell_type": "code",
   "execution_count": 11,
   "metadata": {
    "collapsed": false,
    "deletable": true,
    "editable": true
   },
   "outputs": [
    {
     "name": "stdout",
     "output_type": "stream",
     "text": [
      "The average accuracy for all cv folds is: \t\t\t 0.83148\n",
      "The average precision for all cv folds is: \t\t\t 0.85111\n",
      "The average recall for all cv folds is: \t\t\t 0.83669\n",
      "*********************************************************\n",
      "Cross Validation Fold Mean Error Scores\n"
     ]
    },
    {
     "data": {
      "text/html": [
       "<div>\n",
       "<style scoped>\n",
       "    .dataframe tbody tr th:only-of-type {\n",
       "        vertical-align: middle;\n",
       "    }\n",
       "\n",
       "    .dataframe tbody tr th {\n",
       "        vertical-align: top;\n",
       "    }\n",
       "\n",
       "    .dataframe thead th {\n",
       "        text-align: right;\n",
       "    }\n",
       "</style>\n",
       "<table border=\"1\" class=\"dataframe\">\n",
       "  <thead>\n",
       "    <tr style=\"text-align: right;\">\n",
       "      <th></th>\n",
       "      <th>Accuracy</th>\n",
       "      <th>Precision</th>\n",
       "      <th>Recall</th>\n",
       "    </tr>\n",
       "  </thead>\n",
       "  <tbody>\n",
       "    <tr>\n",
       "      <th>0</th>\n",
       "      <td>0.851852</td>\n",
       "      <td>0.892857</td>\n",
       "      <td>0.833333</td>\n",
       "    </tr>\n",
       "    <tr>\n",
       "      <th>1</th>\n",
       "      <td>0.814815</td>\n",
       "      <td>0.833333</td>\n",
       "      <td>0.833333</td>\n",
       "    </tr>\n",
       "    <tr>\n",
       "      <th>2</th>\n",
       "      <td>0.870370</td>\n",
       "      <td>0.843750</td>\n",
       "      <td>0.931034</td>\n",
       "    </tr>\n",
       "    <tr>\n",
       "      <th>3</th>\n",
       "      <td>0.796296</td>\n",
       "      <td>0.870968</td>\n",
       "      <td>0.794118</td>\n",
       "    </tr>\n",
       "    <tr>\n",
       "      <th>4</th>\n",
       "      <td>0.888889</td>\n",
       "      <td>0.909091</td>\n",
       "      <td>0.909091</td>\n",
       "    </tr>\n",
       "    <tr>\n",
       "      <th>5</th>\n",
       "      <td>0.833333</td>\n",
       "      <td>0.833333</td>\n",
       "      <td>0.862069</td>\n",
       "    </tr>\n",
       "    <tr>\n",
       "      <th>6</th>\n",
       "      <td>0.759259</td>\n",
       "      <td>0.812500</td>\n",
       "      <td>0.787879</td>\n",
       "    </tr>\n",
       "    <tr>\n",
       "      <th>7</th>\n",
       "      <td>0.870370</td>\n",
       "      <td>0.888889</td>\n",
       "      <td>0.857143</td>\n",
       "    </tr>\n",
       "    <tr>\n",
       "      <th>8</th>\n",
       "      <td>0.870370</td>\n",
       "      <td>0.857143</td>\n",
       "      <td>0.818182</td>\n",
       "    </tr>\n",
       "    <tr>\n",
       "      <th>9</th>\n",
       "      <td>0.759259</td>\n",
       "      <td>0.769231</td>\n",
       "      <td>0.740741</td>\n",
       "    </tr>\n",
       "  </tbody>\n",
       "</table>\n",
       "</div>"
      ],
      "text/plain": [
       "   Accuracy  Precision    Recall\n",
       "0  0.851852   0.892857  0.833333\n",
       "1  0.814815   0.833333  0.833333\n",
       "2  0.870370   0.843750  0.931034\n",
       "3  0.796296   0.870968  0.794118\n",
       "4  0.888889   0.909091  0.909091\n",
       "5  0.833333   0.833333  0.862069\n",
       "6  0.759259   0.812500  0.787879\n",
       "7  0.870370   0.888889  0.857143\n",
       "8  0.870370   0.857143  0.818182\n",
       "9  0.759259   0.769231  0.740741"
      ]
     },
     "execution_count": 11,
     "metadata": {},
     "output_type": "execute_result"
    }
   ],
   "source": [
    "#Convert Y to a binary response variable \n",
    "Y = Y_MinorityPct >= 0.40\n",
    "\n",
    "#Use the best parameters for our Linear Regression object\n",
    "classifierEst = regGridSearch.best_estimator_\n",
    "\n",
    "#Evaluate the regression estimator above using our pre-defined cross validation and scoring metrics. \n",
    "EvaluateClassifierEstimator(classifierEst, X_highSchools, Y, cv)"
   ]
  },
  {
   "cell_type": "code",
   "execution_count": 12,
   "metadata": {
    "collapsed": false,
    "deletable": true,
    "editable": true
   },
   "outputs": [
    {
     "name": "stdout",
     "output_type": "stream",
     "text": [
      "The average accuracy for all cv folds is: \t\t\t 0.8537\n",
      "The average precision for all cv folds is: \t\t\t 0.83537\n",
      "The average recall for all cv folds is: \t\t\t 0.85398\n",
      "*********************************************************\n",
      "Cross Validation Fold Mean Error Scores\n"
     ]
    },
    {
     "data": {
      "text/html": [
       "<div>\n",
       "<style scoped>\n",
       "    .dataframe tbody tr th:only-of-type {\n",
       "        vertical-align: middle;\n",
       "    }\n",
       "\n",
       "    .dataframe tbody tr th {\n",
       "        vertical-align: top;\n",
       "    }\n",
       "\n",
       "    .dataframe thead th {\n",
       "        text-align: right;\n",
       "    }\n",
       "</style>\n",
       "<table border=\"1\" class=\"dataframe\">\n",
       "  <thead>\n",
       "    <tr style=\"text-align: right;\">\n",
       "      <th></th>\n",
       "      <th>Accuracy</th>\n",
       "      <th>Precision</th>\n",
       "      <th>Recall</th>\n",
       "    </tr>\n",
       "  </thead>\n",
       "  <tbody>\n",
       "    <tr>\n",
       "      <th>0</th>\n",
       "      <td>0.777778</td>\n",
       "      <td>0.791667</td>\n",
       "      <td>0.730769</td>\n",
       "    </tr>\n",
       "    <tr>\n",
       "      <th>1</th>\n",
       "      <td>0.870370</td>\n",
       "      <td>0.904762</td>\n",
       "      <td>0.791667</td>\n",
       "    </tr>\n",
       "    <tr>\n",
       "      <th>2</th>\n",
       "      <td>0.870370</td>\n",
       "      <td>0.806452</td>\n",
       "      <td>0.961538</td>\n",
       "    </tr>\n",
       "    <tr>\n",
       "      <th>3</th>\n",
       "      <td>0.833333</td>\n",
       "      <td>0.851852</td>\n",
       "      <td>0.821429</td>\n",
       "    </tr>\n",
       "    <tr>\n",
       "      <th>4</th>\n",
       "      <td>0.907407</td>\n",
       "      <td>0.866667</td>\n",
       "      <td>0.962963</td>\n",
       "    </tr>\n",
       "    <tr>\n",
       "      <th>5</th>\n",
       "      <td>0.851852</td>\n",
       "      <td>0.880000</td>\n",
       "      <td>0.814815</td>\n",
       "    </tr>\n",
       "    <tr>\n",
       "      <th>6</th>\n",
       "      <td>0.703704</td>\n",
       "      <td>0.703704</td>\n",
       "      <td>0.703704</td>\n",
       "    </tr>\n",
       "    <tr>\n",
       "      <th>7</th>\n",
       "      <td>0.944444</td>\n",
       "      <td>0.956522</td>\n",
       "      <td>0.916667</td>\n",
       "    </tr>\n",
       "    <tr>\n",
       "      <th>8</th>\n",
       "      <td>0.907407</td>\n",
       "      <td>0.842105</td>\n",
       "      <td>0.888889</td>\n",
       "    </tr>\n",
       "    <tr>\n",
       "      <th>9</th>\n",
       "      <td>0.870370</td>\n",
       "      <td>0.750000</td>\n",
       "      <td>0.947368</td>\n",
       "    </tr>\n",
       "  </tbody>\n",
       "</table>\n",
       "</div>"
      ],
      "text/plain": [
       "   Accuracy  Precision    Recall\n",
       "0  0.777778   0.791667  0.730769\n",
       "1  0.870370   0.904762  0.791667\n",
       "2  0.870370   0.806452  0.961538\n",
       "3  0.833333   0.851852  0.821429\n",
       "4  0.907407   0.866667  0.962963\n",
       "5  0.851852   0.880000  0.814815\n",
       "6  0.703704   0.703704  0.703704\n",
       "7  0.944444   0.956522  0.916667\n",
       "8  0.907407   0.842105  0.888889\n",
       "9  0.870370   0.750000  0.947368"
      ]
     },
     "execution_count": 12,
     "metadata": {},
     "output_type": "execute_result"
    }
   ],
   "source": [
    "#Convert Y to a binary response variable \n",
    "Y = Y_MinorityPct >= 0.50\n",
    "\n",
    "#Use the best parameters for our Linear Regression object\n",
    "classifierEst = regGridSearch.best_estimator_\n",
    "\n",
    "#Evaluate the regression estimator above using our pre-defined cross validation and scoring metrics. \n",
    "EvaluateClassifierEstimator(classifierEst, X_highSchools, Y, cv)"
   ]
  },
  {
   "cell_type": "code",
   "execution_count": 13,
   "metadata": {
    "collapsed": false,
    "deletable": true,
    "editable": true
   },
   "outputs": [
    {
     "name": "stdout",
     "output_type": "stream",
     "text": [
      "             precision    recall  f1-score   support\n",
      "\n",
      "      False       0.83      0.82      0.82       299\n",
      "       True       0.77      0.79      0.78       238\n",
      "\n",
      "avg / total       0.80      0.80      0.80       537\n",
      "\n",
      "[[244  55]\n",
      " [ 50 188]]\n",
      "0.8044692737430168\n"
     ]
    }
   ],
   "source": [
    "EvaluateClassifierEstimator2(classifierEst, X_highSchools, Y, 10)"
   ]
  },
  {
   "cell_type": "code",
   "execution_count": 14,
   "metadata": {
    "collapsed": false,
    "deletable": true,
    "editable": true
   },
   "outputs": [
    {
     "name": "stdout",
     "output_type": "stream",
     "text": [
      "The average accuracy for all cv folds is: \t\t\t 0.86667\n",
      "The average precision for all cv folds is: \t\t\t 0.77395\n",
      "The average recall for all cv folds is: \t\t\t 0.88971\n",
      "*********************************************************\n",
      "Cross Validation Fold Mean Error Scores\n"
     ]
    },
    {
     "data": {
      "text/html": [
       "<div>\n",
       "<style scoped>\n",
       "    .dataframe tbody tr th:only-of-type {\n",
       "        vertical-align: middle;\n",
       "    }\n",
       "\n",
       "    .dataframe tbody tr th {\n",
       "        vertical-align: top;\n",
       "    }\n",
       "\n",
       "    .dataframe thead th {\n",
       "        text-align: right;\n",
       "    }\n",
       "</style>\n",
       "<table border=\"1\" class=\"dataframe\">\n",
       "  <thead>\n",
       "    <tr style=\"text-align: right;\">\n",
       "      <th></th>\n",
       "      <th>Accuracy</th>\n",
       "      <th>Precision</th>\n",
       "      <th>Recall</th>\n",
       "    </tr>\n",
       "  </thead>\n",
       "  <tbody>\n",
       "    <tr>\n",
       "      <th>0</th>\n",
       "      <td>0.888889</td>\n",
       "      <td>0.850000</td>\n",
       "      <td>0.850000</td>\n",
       "    </tr>\n",
       "    <tr>\n",
       "      <th>1</th>\n",
       "      <td>0.851852</td>\n",
       "      <td>0.800000</td>\n",
       "      <td>0.800000</td>\n",
       "    </tr>\n",
       "    <tr>\n",
       "      <th>2</th>\n",
       "      <td>0.888889</td>\n",
       "      <td>0.769231</td>\n",
       "      <td>1.000000</td>\n",
       "    </tr>\n",
       "    <tr>\n",
       "      <th>3</th>\n",
       "      <td>0.777778</td>\n",
       "      <td>0.642857</td>\n",
       "      <td>0.900000</td>\n",
       "    </tr>\n",
       "    <tr>\n",
       "      <th>4</th>\n",
       "      <td>0.907407</td>\n",
       "      <td>0.840000</td>\n",
       "      <td>0.954545</td>\n",
       "    </tr>\n",
       "    <tr>\n",
       "      <th>5</th>\n",
       "      <td>0.851852</td>\n",
       "      <td>0.782609</td>\n",
       "      <td>0.857143</td>\n",
       "    </tr>\n",
       "    <tr>\n",
       "      <th>6</th>\n",
       "      <td>0.740741</td>\n",
       "      <td>0.608696</td>\n",
       "      <td>0.736842</td>\n",
       "    </tr>\n",
       "    <tr>\n",
       "      <th>7</th>\n",
       "      <td>0.925926</td>\n",
       "      <td>0.850000</td>\n",
       "      <td>0.944444</td>\n",
       "    </tr>\n",
       "    <tr>\n",
       "      <th>8</th>\n",
       "      <td>0.944444</td>\n",
       "      <td>0.846154</td>\n",
       "      <td>0.916667</td>\n",
       "    </tr>\n",
       "    <tr>\n",
       "      <th>9</th>\n",
       "      <td>0.888889</td>\n",
       "      <td>0.750000</td>\n",
       "      <td>0.937500</td>\n",
       "    </tr>\n",
       "  </tbody>\n",
       "</table>\n",
       "</div>"
      ],
      "text/plain": [
       "   Accuracy  Precision    Recall\n",
       "0  0.888889   0.850000  0.850000\n",
       "1  0.851852   0.800000  0.800000\n",
       "2  0.888889   0.769231  1.000000\n",
       "3  0.777778   0.642857  0.900000\n",
       "4  0.907407   0.840000  0.954545\n",
       "5  0.851852   0.782609  0.857143\n",
       "6  0.740741   0.608696  0.736842\n",
       "7  0.925926   0.850000  0.944444\n",
       "8  0.944444   0.846154  0.916667\n",
       "9  0.888889   0.750000  0.937500"
      ]
     },
     "execution_count": 14,
     "metadata": {},
     "output_type": "execute_result"
    }
   ],
   "source": [
    "#Convert Y to a binary response variable \n",
    "Y = Y_MinorityPct >= 0.60\n",
    "\n",
    "#Use the best parameters for our Linear Regression object\n",
    "classifierEst = regGridSearch.best_estimator_\n",
    "\n",
    "#Evaluate the regression estimator above using our pre-defined cross validation and scoring metrics. \n",
    "EvaluateClassifierEstimator(classifierEst, X_highSchools, Y, cv)"
   ]
  },
  {
   "cell_type": "code",
   "execution_count": 15,
   "metadata": {
    "collapsed": false,
    "deletable": true,
    "editable": true
   },
   "outputs": [
    {
     "name": "stdout",
     "output_type": "stream",
     "text": [
      "             precision    recall  f1-score   support\n",
      "\n",
      "      False       0.88      0.83      0.86       359\n",
      "       True       0.70      0.78      0.74       178\n",
      "\n",
      "avg / total       0.82      0.82      0.82       537\n",
      "\n",
      "[[299  60]\n",
      " [ 39 139]]\n",
      "0.8156424581005587\n"
     ]
    }
   ],
   "source": [
    "EvaluateClassifierEstimator2(classifierEst, X_highSchools, Y, 10)"
   ]
  },
  {
   "cell_type": "markdown",
   "metadata": {
    "deletable": true,
    "editable": true
   },
   "source": [
    "**The next model uses a Logistic Regression to classify public high schools as greater than 90% minority**"
   ]
  },
  {
   "cell_type": "code",
   "execution_count": 16,
   "metadata": {
    "collapsed": false,
    "deletable": true,
    "editable": true
   },
   "outputs": [
    {
     "name": "stdout",
     "output_type": "stream",
     "text": [
      "The average accuracy for all cv folds is: \t\t\t 0.84259\n",
      "The average precision for all cv folds is: \t\t\t 0.64433\n",
      "The average recall for all cv folds is: \t\t\t 0.82554\n",
      "*********************************************************\n",
      "Cross Validation Fold Mean Error Scores\n"
     ]
    },
    {
     "data": {
      "text/html": [
       "<div>\n",
       "<style scoped>\n",
       "    .dataframe tbody tr th:only-of-type {\n",
       "        vertical-align: middle;\n",
       "    }\n",
       "\n",
       "    .dataframe tbody tr th {\n",
       "        vertical-align: top;\n",
       "    }\n",
       "\n",
       "    .dataframe thead th {\n",
       "        text-align: right;\n",
       "    }\n",
       "</style>\n",
       "<table border=\"1\" class=\"dataframe\">\n",
       "  <thead>\n",
       "    <tr style=\"text-align: right;\">\n",
       "      <th></th>\n",
       "      <th>Accuracy</th>\n",
       "      <th>Precision</th>\n",
       "      <th>Recall</th>\n",
       "    </tr>\n",
       "  </thead>\n",
       "  <tbody>\n",
       "    <tr>\n",
       "      <th>0</th>\n",
       "      <td>0.833333</td>\n",
       "      <td>0.705882</td>\n",
       "      <td>0.750000</td>\n",
       "    </tr>\n",
       "    <tr>\n",
       "      <th>1</th>\n",
       "      <td>0.851852</td>\n",
       "      <td>0.666667</td>\n",
       "      <td>0.769231</td>\n",
       "    </tr>\n",
       "    <tr>\n",
       "      <th>2</th>\n",
       "      <td>0.851852</td>\n",
       "      <td>0.666667</td>\n",
       "      <td>0.933333</td>\n",
       "    </tr>\n",
       "    <tr>\n",
       "      <th>3</th>\n",
       "      <td>0.777778</td>\n",
       "      <td>0.578947</td>\n",
       "      <td>0.733333</td>\n",
       "    </tr>\n",
       "    <tr>\n",
       "      <th>4</th>\n",
       "      <td>0.851852</td>\n",
       "      <td>0.695652</td>\n",
       "      <td>0.941176</td>\n",
       "    </tr>\n",
       "    <tr>\n",
       "      <th>5</th>\n",
       "      <td>0.870370</td>\n",
       "      <td>0.722222</td>\n",
       "      <td>0.866667</td>\n",
       "    </tr>\n",
       "    <tr>\n",
       "      <th>6</th>\n",
       "      <td>0.777778</td>\n",
       "      <td>0.526316</td>\n",
       "      <td>0.769231</td>\n",
       "    </tr>\n",
       "    <tr>\n",
       "      <th>7</th>\n",
       "      <td>0.907407</td>\n",
       "      <td>0.714286</td>\n",
       "      <td>0.909091</td>\n",
       "    </tr>\n",
       "    <tr>\n",
       "      <th>8</th>\n",
       "      <td>0.925926</td>\n",
       "      <td>0.666667</td>\n",
       "      <td>1.000000</td>\n",
       "    </tr>\n",
       "    <tr>\n",
       "      <th>9</th>\n",
       "      <td>0.777778</td>\n",
       "      <td>0.500000</td>\n",
       "      <td>0.583333</td>\n",
       "    </tr>\n",
       "  </tbody>\n",
       "</table>\n",
       "</div>"
      ],
      "text/plain": [
       "   Accuracy  Precision    Recall\n",
       "0  0.833333   0.705882  0.750000\n",
       "1  0.851852   0.666667  0.769231\n",
       "2  0.851852   0.666667  0.933333\n",
       "3  0.777778   0.578947  0.733333\n",
       "4  0.851852   0.695652  0.941176\n",
       "5  0.870370   0.722222  0.866667\n",
       "6  0.777778   0.526316  0.769231\n",
       "7  0.907407   0.714286  0.909091\n",
       "8  0.925926   0.666667  1.000000\n",
       "9  0.777778   0.500000  0.583333"
      ]
     },
     "execution_count": 16,
     "metadata": {},
     "output_type": "execute_result"
    }
   ],
   "source": [
    "#Convert Y to a binary response variable \n",
    "Y = Y_MinorityPct >= 0.70\n",
    "\n",
    "#Use the best parameters for our Linear Regression object\n",
    "classifierEst = regGridSearch.best_estimator_\n",
    "\n",
    "#Evaluate the regression estimator above using our pre-defined cross validation and scoring metrics. \n",
    "EvaluateClassifierEstimator(classifierEst, X_highSchools, Y, cv)"
   ]
  },
  {
   "cell_type": "code",
   "execution_count": 17,
   "metadata": {
    "collapsed": false,
    "deletable": true,
    "editable": true
   },
   "outputs": [
    {
     "name": "stdout",
     "output_type": "stream",
     "text": [
      "             precision    recall  f1-score   support\n",
      "\n",
      "      False       0.94      0.85      0.89       411\n",
      "       True       0.62      0.82      0.71       126\n",
      "\n",
      "avg / total       0.86      0.84      0.85       537\n",
      "\n",
      "[[349  62]\n",
      " [ 23 103]]\n",
      "0.8417132216014898\n"
     ]
    }
   ],
   "source": [
    "EvaluateClassifierEstimator2(classifierEst, X_highSchools, Y, 10)"
   ]
  },
  {
   "cell_type": "code",
   "execution_count": 18,
   "metadata": {
    "collapsed": false,
    "deletable": true,
    "editable": true
   },
   "outputs": [
    {
     "name": "stdout",
     "output_type": "stream",
     "text": [
      "The average accuracy for all cv folds is: \t\t\t 0.89444\n",
      "The average precision for all cv folds is: \t\t\t 0.62513\n",
      "The average recall for all cv folds is: \t\t\t 0.89284\n",
      "*********************************************************\n",
      "Cross Validation Fold Mean Error Scores\n"
     ]
    },
    {
     "data": {
      "text/html": [
       "<div>\n",
       "<style scoped>\n",
       "    .dataframe tbody tr th:only-of-type {\n",
       "        vertical-align: middle;\n",
       "    }\n",
       "\n",
       "    .dataframe tbody tr th {\n",
       "        vertical-align: top;\n",
       "    }\n",
       "\n",
       "    .dataframe thead th {\n",
       "        text-align: right;\n",
       "    }\n",
       "</style>\n",
       "<table border=\"1\" class=\"dataframe\">\n",
       "  <thead>\n",
       "    <tr style=\"text-align: right;\">\n",
       "      <th></th>\n",
       "      <th>Accuracy</th>\n",
       "      <th>Precision</th>\n",
       "      <th>Recall</th>\n",
       "    </tr>\n",
       "  </thead>\n",
       "  <tbody>\n",
       "    <tr>\n",
       "      <th>0</th>\n",
       "      <td>0.888889</td>\n",
       "      <td>0.692308</td>\n",
       "      <td>0.818182</td>\n",
       "    </tr>\n",
       "    <tr>\n",
       "      <th>1</th>\n",
       "      <td>0.907407</td>\n",
       "      <td>0.583333</td>\n",
       "      <td>1.000000</td>\n",
       "    </tr>\n",
       "    <tr>\n",
       "      <th>2</th>\n",
       "      <td>0.870370</td>\n",
       "      <td>0.642857</td>\n",
       "      <td>0.818182</td>\n",
       "    </tr>\n",
       "    <tr>\n",
       "      <th>3</th>\n",
       "      <td>0.870370</td>\n",
       "      <td>0.500000</td>\n",
       "      <td>1.000000</td>\n",
       "    </tr>\n",
       "    <tr>\n",
       "      <th>4</th>\n",
       "      <td>0.907407</td>\n",
       "      <td>0.722222</td>\n",
       "      <td>1.000000</td>\n",
       "    </tr>\n",
       "    <tr>\n",
       "      <th>5</th>\n",
       "      <td>0.888889</td>\n",
       "      <td>0.666667</td>\n",
       "      <td>0.800000</td>\n",
       "    </tr>\n",
       "    <tr>\n",
       "      <th>6</th>\n",
       "      <td>0.907407</td>\n",
       "      <td>0.700000</td>\n",
       "      <td>0.777778</td>\n",
       "    </tr>\n",
       "    <tr>\n",
       "      <th>7</th>\n",
       "      <td>0.944444</td>\n",
       "      <td>0.727273</td>\n",
       "      <td>1.000000</td>\n",
       "    </tr>\n",
       "    <tr>\n",
       "      <th>8</th>\n",
       "      <td>0.925926</td>\n",
       "      <td>0.600000</td>\n",
       "      <td>1.000000</td>\n",
       "    </tr>\n",
       "    <tr>\n",
       "      <th>9</th>\n",
       "      <td>0.833333</td>\n",
       "      <td>0.416667</td>\n",
       "      <td>0.714286</td>\n",
       "    </tr>\n",
       "  </tbody>\n",
       "</table>\n",
       "</div>"
      ],
      "text/plain": [
       "   Accuracy  Precision    Recall\n",
       "0  0.888889   0.692308  0.818182\n",
       "1  0.907407   0.583333  1.000000\n",
       "2  0.870370   0.642857  0.818182\n",
       "3  0.870370   0.500000  1.000000\n",
       "4  0.907407   0.722222  1.000000\n",
       "5  0.888889   0.666667  0.800000\n",
       "6  0.907407   0.700000  0.777778\n",
       "7  0.944444   0.727273  1.000000\n",
       "8  0.925926   0.600000  1.000000\n",
       "9  0.833333   0.416667  0.714286"
      ]
     },
     "execution_count": 18,
     "metadata": {},
     "output_type": "execute_result"
    }
   ],
   "source": [
    "#Convert Y to a binary response variable \n",
    "Y = Y_MinorityPct >= 0.80\n",
    "\n",
    "#Use the best parameters for our Linear Regression object\n",
    "classifierEst = regGridSearch.best_estimator_\n",
    "\n",
    "#Evaluate the regression estimator above using our pre-defined cross validation and scoring metrics. \n",
    "EvaluateClassifierEstimator(classifierEst, X_highSchools, Y, cv)"
   ]
  },
  {
   "cell_type": "code",
   "execution_count": 19,
   "metadata": {
    "collapsed": false,
    "deletable": true,
    "editable": true
   },
   "outputs": [
    {
     "name": "stdout",
     "output_type": "stream",
     "text": [
      "             precision    recall  f1-score   support\n",
      "\n",
      "      False       0.96      0.89      0.92       455\n",
      "       True       0.56      0.78      0.65        82\n",
      "\n",
      "avg / total       0.90      0.87      0.88       537\n",
      "\n",
      "[[405  50]\n",
      " [ 18  64]]\n",
      "0.8733705772811918\n"
     ]
    }
   ],
   "source": [
    "EvaluateClassifierEstimator2(classifierEst, X_highSchools, Y, 10)"
   ]
  },
  {
   "cell_type": "code",
   "execution_count": 20,
   "metadata": {
    "collapsed": false,
    "deletable": true,
    "editable": true
   },
   "outputs": [
    {
     "name": "stdout",
     "output_type": "stream",
     "text": [
      "The average accuracy for all cv folds is: \t\t\t 0.91667\n",
      "The average precision for all cv folds is: \t\t\t 0.51802\n",
      "The average recall for all cv folds is: \t\t\t 0.76167\n",
      "*********************************************************\n",
      "Cross Validation Fold Mean Error Scores\n"
     ]
    },
    {
     "data": {
      "text/html": [
       "<div>\n",
       "<style scoped>\n",
       "    .dataframe tbody tr th:only-of-type {\n",
       "        vertical-align: middle;\n",
       "    }\n",
       "\n",
       "    .dataframe tbody tr th {\n",
       "        vertical-align: top;\n",
       "    }\n",
       "\n",
       "    .dataframe thead th {\n",
       "        text-align: right;\n",
       "    }\n",
       "</style>\n",
       "<table border=\"1\" class=\"dataframe\">\n",
       "  <thead>\n",
       "    <tr style=\"text-align: right;\">\n",
       "      <th></th>\n",
       "      <th>Accuracy</th>\n",
       "      <th>Precision</th>\n",
       "      <th>Recall</th>\n",
       "    </tr>\n",
       "  </thead>\n",
       "  <tbody>\n",
       "    <tr>\n",
       "      <th>0</th>\n",
       "      <td>0.925926</td>\n",
       "      <td>0.666667</td>\n",
       "      <td>0.666667</td>\n",
       "    </tr>\n",
       "    <tr>\n",
       "      <th>1</th>\n",
       "      <td>0.925926</td>\n",
       "      <td>0.500000</td>\n",
       "      <td>1.000000</td>\n",
       "    </tr>\n",
       "    <tr>\n",
       "      <th>2</th>\n",
       "      <td>0.870370</td>\n",
       "      <td>0.454545</td>\n",
       "      <td>0.833333</td>\n",
       "    </tr>\n",
       "    <tr>\n",
       "      <th>3</th>\n",
       "      <td>0.888889</td>\n",
       "      <td>0.166667</td>\n",
       "      <td>0.500000</td>\n",
       "    </tr>\n",
       "    <tr>\n",
       "      <th>4</th>\n",
       "      <td>0.907407</td>\n",
       "      <td>0.692308</td>\n",
       "      <td>0.900000</td>\n",
       "    </tr>\n",
       "    <tr>\n",
       "      <th>5</th>\n",
       "      <td>0.870370</td>\n",
       "      <td>0.333333</td>\n",
       "      <td>0.750000</td>\n",
       "    </tr>\n",
       "    <tr>\n",
       "      <th>6</th>\n",
       "      <td>0.962963</td>\n",
       "      <td>0.800000</td>\n",
       "      <td>0.800000</td>\n",
       "    </tr>\n",
       "    <tr>\n",
       "      <th>7</th>\n",
       "      <td>0.907407</td>\n",
       "      <td>0.400000</td>\n",
       "      <td>0.500000</td>\n",
       "    </tr>\n",
       "    <tr>\n",
       "      <th>8</th>\n",
       "      <td>0.962963</td>\n",
       "      <td>0.666667</td>\n",
       "      <td>1.000000</td>\n",
       "    </tr>\n",
       "    <tr>\n",
       "      <th>9</th>\n",
       "      <td>0.944444</td>\n",
       "      <td>0.500000</td>\n",
       "      <td>0.666667</td>\n",
       "    </tr>\n",
       "  </tbody>\n",
       "</table>\n",
       "</div>"
      ],
      "text/plain": [
       "   Accuracy  Precision    Recall\n",
       "0  0.925926   0.666667  0.666667\n",
       "1  0.925926   0.500000  1.000000\n",
       "2  0.870370   0.454545  0.833333\n",
       "3  0.888889   0.166667  0.500000\n",
       "4  0.907407   0.692308  0.900000\n",
       "5  0.870370   0.333333  0.750000\n",
       "6  0.962963   0.800000  0.800000\n",
       "7  0.907407   0.400000  0.500000\n",
       "8  0.962963   0.666667  1.000000\n",
       "9  0.944444   0.500000  0.666667"
      ]
     },
     "execution_count": 20,
     "metadata": {},
     "output_type": "execute_result"
    }
   ],
   "source": [
    "#Convert Y to a binary response variable \n",
    "Y = Y_MinorityPct >= 0.90\n",
    "\n",
    "#Use the best parameters for our Linear Regression object\n",
    "classifierEst = regGridSearch.best_estimator_\n",
    "\n",
    "#Evaluate the regression estimator above using our pre-defined cross validation and scoring metrics. \n",
    "EvaluateClassifierEstimator(classifierEst, X_highSchools, Y, cv)"
   ]
  },
  {
   "cell_type": "code",
   "execution_count": 21,
   "metadata": {
    "collapsed": false,
    "deletable": true,
    "editable": true
   },
   "outputs": [
    {
     "name": "stdout",
     "output_type": "stream",
     "text": [
      "             precision    recall  f1-score   support\n",
      "\n",
      "      False       0.98      0.95      0.96       492\n",
      "       True       0.58      0.82      0.68        45\n",
      "\n",
      "avg / total       0.95      0.93      0.94       537\n",
      "\n",
      "[[465  27]\n",
      " [  8  37]]\n",
      "0.9348230912476723\n"
     ]
    }
   ],
   "source": [
    "EvaluateClassifierEstimator2(classifierEst, X_highSchools, Y, 10)"
   ]
  },
  {
   "cell_type": "markdown",
   "metadata": {
    "deletable": true,
    "editable": true
   },
   "source": [
    "# Top Performing Model Analisys\n",
    "## Testing Scaled vs. Unscaled Training Data\n",
    "**Cross validation is performed using both scaled and unscaled training data.**\n",
    "* A grid search is also performed on the scaled training data to determine the best parameters to use with the scaled training data.\n",
    "* We scale the data prior to looking at feature importances.  Since the raw features have different dynamic ranges, scaling the data first allows us to compare the model's coefficients accurately. \n",
    "* The scaled data makes more accurate predictions in many cases but not always!"
   ]
  },
  {
   "cell_type": "code",
   "execution_count": 22,
   "metadata": {
    "collapsed": true,
    "deletable": true,
    "editable": true
   },
   "outputs": [],
   "source": [
    "#Scale dataset converting to standard normally distributed data \n",
    "# (e.g. Gaussian with 0 mean and unit variance).\n",
    "from sklearn.preprocessing import StandardScaler\n",
    "\n",
    "#Fit to data for scaling\n",
    "scaler = StandardScaler()\n",
    "scaler.fit(X_highSchools)\n",
    "\n",
    "#Transform training data to z-scores\n",
    "#This makes our model's coefficients take on the same scale for accurate feature importance analisys \n",
    "X_highSchools_Scl = scaler.transform(X_highSchools)"
   ]
  },
  {
   "cell_type": "markdown",
   "metadata": {
    "deletable": true,
    "editable": true
   },
   "source": [
    "**In this case, I tested scaling the data before cross validation as well.**"
   ]
  },
  {
   "cell_type": "code",
   "execution_count": 23,
   "metadata": {
    "collapsed": false,
    "deletable": true,
    "editable": true
   },
   "outputs": [
    {
     "name": "stdout",
     "output_type": "stream",
     "text": [
      "Fitting 10 folds for each of 14 candidates, totalling 140 fits\n"
     ]
    },
    {
     "name": "stderr",
     "output_type": "stream",
     "text": [
      "[Parallel(n_jobs=8)]: Done  34 tasks      | elapsed:    7.2s\n",
      "[Parallel(n_jobs=8)]: Done 140 out of 140 | elapsed:    9.8s finished\n"
     ]
    },
    {
     "data": {
      "text/plain": [
       "GridSearchCV(cv=ShuffleSplit(n_splits=10, random_state=0, test_size=0.1, train_size=None),\n",
       "       error_score='raise',\n",
       "       estimator=LogisticRegression(C=1.0, class_weight=None, dual=False, fit_intercept=True,\n",
       "          intercept_scaling=1, max_iter=100, multi_class='ovr', n_jobs=1,\n",
       "          penalty='l2', random_state=None, solver='liblinear', tol=0.0001,\n",
       "          verbose=0, warm_start=False),\n",
       "       fit_params=None, iid=True, n_jobs=8,\n",
       "       param_grid={'C': [0.001, 0.01, 0.1, 1, 10, 100, 1000], 'solver': ['lbfgs'], 'max_iter': [100, 500], 'penalty': ['l2'], 'random_state': [0], 'class_weight': ['balanced']},\n",
       "       pre_dispatch='2*n_jobs', refit=True, return_train_score='warn',\n",
       "       scoring='accuracy', verbose=1)"
      ]
     },
     "execution_count": 23,
     "metadata": {},
     "output_type": "execute_result"
    }
   ],
   "source": [
    "#Convert Y to a binary response variable \n",
    "Y = Y_MinorityPct >= 0.9\n",
    "\n",
    "#Logisitic regression 10-fold cross-validation \n",
    "from sklearn.linear_model import LogisticRegression\n",
    "regEstimator = LogisticRegression()\n",
    "\n",
    "\n",
    "parameters = { 'penalty':['l2']\n",
    "              ,'C': [0.001, 0.01, 0.1, 1, 10, 100, 1000]\n",
    "              ,'class_weight': ['balanced'] #,'none']\n",
    "              ,'random_state': [0]\n",
    "              ,'solver': ['lbfgs']\n",
    "              ,'max_iter':[100,500]\n",
    "             }\n",
    "\n",
    "#Create a grid search object using the  \n",
    "from sklearn.model_selection import GridSearchCV\n",
    "regGridSearch = GridSearchCV(estimator=regEstimator\n",
    "                   , n_jobs=8 # jobs to run in parallel\n",
    "                   , verbose=1 # low verbosity\n",
    "                   , param_grid=parameters\n",
    "                   , cv=cv # KFolds = 10\n",
    "                   , scoring='accuracy')\n",
    "\n",
    "#Perform hyperparameter search to find the best combination of parameters for our data\n",
    "regGridSearch.fit(X_highSchools_Scl, Y)"
   ]
  },
  {
   "cell_type": "code",
   "execution_count": 24,
   "metadata": {
    "collapsed": false,
    "deletable": true,
    "editable": true
   },
   "outputs": [
    {
     "data": {
      "text/plain": [
       "LogisticRegression(C=100, class_weight='balanced', dual=False,\n",
       "          fit_intercept=True, intercept_scaling=1, max_iter=100,\n",
       "          multi_class='ovr', n_jobs=1, penalty='l2', random_state=0,\n",
       "          solver='lbfgs', tol=0.0001, verbose=0, warm_start=False)"
      ]
     },
     "execution_count": 24,
     "metadata": {},
     "output_type": "execute_result"
    }
   ],
   "source": [
    "#Display the best estimator parameters\n",
    "regGridSearch.best_estimator_"
   ]
  },
  {
   "cell_type": "code",
   "execution_count": 25,
   "metadata": {
    "collapsed": false,
    "deletable": true,
    "editable": true
   },
   "outputs": [
    {
     "name": "stdout",
     "output_type": "stream",
     "text": [
      "The average accuracy for all cv folds is: \t\t\t 0.86667\n",
      "The average precision for all cv folds is: \t\t\t 0.36273\n",
      "The average recall for all cv folds is: \t\t\t 0.73\n",
      "*********************************************************\n",
      "Cross Validation Fold Mean Error Scores\n"
     ]
    },
    {
     "data": {
      "text/html": [
       "<div>\n",
       "<style scoped>\n",
       "    .dataframe tbody tr th:only-of-type {\n",
       "        vertical-align: middle;\n",
       "    }\n",
       "\n",
       "    .dataframe tbody tr th {\n",
       "        vertical-align: top;\n",
       "    }\n",
       "\n",
       "    .dataframe thead th {\n",
       "        text-align: right;\n",
       "    }\n",
       "</style>\n",
       "<table border=\"1\" class=\"dataframe\">\n",
       "  <thead>\n",
       "    <tr style=\"text-align: right;\">\n",
       "      <th></th>\n",
       "      <th>Accuracy</th>\n",
       "      <th>Precision</th>\n",
       "      <th>Recall</th>\n",
       "    </tr>\n",
       "  </thead>\n",
       "  <tbody>\n",
       "    <tr>\n",
       "      <th>0</th>\n",
       "      <td>0.833333</td>\n",
       "      <td>0.363636</td>\n",
       "      <td>0.666667</td>\n",
       "    </tr>\n",
       "    <tr>\n",
       "      <th>1</th>\n",
       "      <td>0.851852</td>\n",
       "      <td>0.300000</td>\n",
       "      <td>0.750000</td>\n",
       "    </tr>\n",
       "    <tr>\n",
       "      <th>2</th>\n",
       "      <td>0.796296</td>\n",
       "      <td>0.307692</td>\n",
       "      <td>0.666667</td>\n",
       "    </tr>\n",
       "    <tr>\n",
       "      <th>3</th>\n",
       "      <td>0.870370</td>\n",
       "      <td>0.142857</td>\n",
       "      <td>0.500000</td>\n",
       "    </tr>\n",
       "    <tr>\n",
       "      <th>4</th>\n",
       "      <td>0.851852</td>\n",
       "      <td>0.571429</td>\n",
       "      <td>0.800000</td>\n",
       "    </tr>\n",
       "    <tr>\n",
       "      <th>5</th>\n",
       "      <td>0.870370</td>\n",
       "      <td>0.333333</td>\n",
       "      <td>0.750000</td>\n",
       "    </tr>\n",
       "    <tr>\n",
       "      <th>6</th>\n",
       "      <td>0.944444</td>\n",
       "      <td>0.625000</td>\n",
       "      <td>1.000000</td>\n",
       "    </tr>\n",
       "    <tr>\n",
       "      <th>7</th>\n",
       "      <td>0.851852</td>\n",
       "      <td>0.250000</td>\n",
       "      <td>0.500000</td>\n",
       "    </tr>\n",
       "    <tr>\n",
       "      <th>8</th>\n",
       "      <td>0.888889</td>\n",
       "      <td>0.400000</td>\n",
       "      <td>1.000000</td>\n",
       "    </tr>\n",
       "    <tr>\n",
       "      <th>9</th>\n",
       "      <td>0.907407</td>\n",
       "      <td>0.333333</td>\n",
       "      <td>0.666667</td>\n",
       "    </tr>\n",
       "  </tbody>\n",
       "</table>\n",
       "</div>"
      ],
      "text/plain": [
       "   Accuracy  Precision    Recall\n",
       "0  0.833333   0.363636  0.666667\n",
       "1  0.851852   0.300000  0.750000\n",
       "2  0.796296   0.307692  0.666667\n",
       "3  0.870370   0.142857  0.500000\n",
       "4  0.851852   0.571429  0.800000\n",
       "5  0.870370   0.333333  0.750000\n",
       "6  0.944444   0.625000  1.000000\n",
       "7  0.851852   0.250000  0.500000\n",
       "8  0.888889   0.400000  1.000000\n",
       "9  0.907407   0.333333  0.666667"
      ]
     },
     "execution_count": 25,
     "metadata": {},
     "output_type": "execute_result"
    }
   ],
   "source": [
    "#Use the best parameters for our Linear Regression object\n",
    "classifierEst = regGridSearch.best_estimator_\n",
    "\n",
    "#Evaluate the regression estimator above using our pre-defined cross validation and scoring metrics. \n",
    "EvaluateClassifierEstimator(classifierEst, X_highSchools_Scl, Y, cv)"
   ]
  },
  {
   "cell_type": "code",
   "execution_count": 26,
   "metadata": {
    "collapsed": false,
    "deletable": true,
    "editable": true
   },
   "outputs": [
    {
     "name": "stdout",
     "output_type": "stream",
     "text": [
      "             precision    recall  f1-score   support\n",
      "\n",
      "      False       0.98      0.90      0.94       492\n",
      "       True       0.43      0.82      0.56        45\n",
      "\n",
      "avg / total       0.94      0.89      0.91       537\n",
      "\n",
      "[[442  50]\n",
      " [  8  37]]\n",
      "0.8919925512104283\n"
     ]
    }
   ],
   "source": [
    "EvaluateClassifierEstimator2(classifierEst, X_highSchools_Scl, Y, 10)"
   ]
  },
  {
   "cell_type": "code",
   "execution_count": 27,
   "metadata": {
    "collapsed": false,
    "deletable": true,
    "editable": true
   },
   "outputs": [
    {
     "data": {
      "text/plain": [
       "False    492\n",
       "True      45\n",
       "Name: MinorityPct, dtype: int64"
      ]
     },
     "execution_count": 27,
     "metadata": {},
     "output_type": "execute_result"
    }
   ],
   "source": [
    "Y.value_counts()"
   ]
  },
  {
   "cell_type": "markdown",
   "metadata": {
    "collapsed": true,
    "deletable": true,
    "editable": true
   },
   "source": [
    "## Feature Importance for the Top Performing Model\n",
    "**Here we look at the features driving the top performing model's decisions.**\n",
    "* The top performing model predicts the minority percentage of public high schools with 95% accuracy.\n",
    "* All training data is scaled to remove differences in coefficient scales since many features have different dynamic ranges.\n",
    "* A final model is created using all the scaled training data.  \n",
    "* All model coefficients are sorted by absolute value in descending order.\n",
    "* Sorted coefficient values are plotted showing the top 75 features with the strongest positive and negative correlations. "
   ]
  },
  {
   "cell_type": "code",
   "execution_count": 28,
   "metadata": {
    "collapsed": false,
    "deletable": true,
    "editable": true
   },
   "outputs": [],
   "source": [
    "#Create a classification estimator with best parameters for cross validation\n",
    "classifierEst = regGridSearch.best_estimator_\n",
    "\n",
    "#Fit the model using all of the scaled training data\n",
    "classifierEst.fit(X_highSchools_Scl, Y)\n",
    "\n",
    "from sklearn.metrics import confusion_matrix"
   ]
  },
  {
   "cell_type": "code",
   "execution_count": 29,
   "metadata": {
    "collapsed": false,
    "deletable": true,
    "editable": true
   },
   "outputs": [],
   "source": [
    "#Load the model's coefficient weights and feature names into a dataframe sorted by weights\n",
    "weights = classifierEst.coef_.ravel()\n",
    "feature_names = X_highSchools.columns.values\n",
    "linreg_ft_imp_df = pd.DataFrame({'feature_names':feature_names, 'weights':weights, 'absolute_weights': np.abs(weights)})\n",
    "linreg_ft_imp_df.sort_values(by='absolute_weights', inplace=True, ascending=False )"
   ]
  },
  {
   "cell_type": "code",
   "execution_count": 30,
   "metadata": {
    "collapsed": false,
    "deletable": true,
    "editable": true
   },
   "outputs": [
    {
     "data": {
      "image/png": "[encoded data removed]",
      "text/plain": [
       "<matplotlib.figure.Figure at 0xdf8b4e0>"
      ]
     },
     "metadata": {},
     "output_type": "display_data"
    }
   ],
   "source": [
    "# Examine categorical variables of interest  \n",
    "import matplotlib.pyplot as plt\n",
    "%matplotlib inline\n",
    "\n",
    "#Plot the model's feature importances\n",
    "# REFERENCE:  Eric Larson, https://github.com/eclarson/DataMiningNotebooks\n",
    "plt.style.use('ggplot')\n",
    "\n",
    "wt_plt_df = linreg_ft_imp_df.head(75)\n",
    "\n",
    "weights = pd.Series(wt_plt_df['weights'].values,index=wt_plt_df['feature_names'])\n",
    "ax = weights.plot(kind='bar', figsize=(20,8))\n",
    "\n",
    "ax.set_title(\"Top Feature Correlations\")\n",
    "ax.set_ylabel(\"Coefficient Magnitude\\n(z-score)\")\n",
    "ax.set_xlabel(\"Feature Names\")\n",
    "plt.show()"
   ]
  },
  {
   "cell_type": "markdown",
   "metadata": {
    "collapsed": true,
    "deletable": true,
    "editable": true
   },
   "source": [
    "## Feature Importance Using Recursive Feature Elimination\n",
    "**Please see the following documentation for this section**\n",
    "* http://scikit-learn.org/stable/modules/generated/sklearn.feature_selection.RFE.html\n",
    "* http://scikit-learn.org/stable/auto_examples/feature_selection/plot_rfe_with_cross_validation.html\n",
    "* http://scikit-learn.org/stable/modules/generated/sklearn.feature_selection.RFECV.html#sklearn.feature_selection.RFECV\n",
    "* https://www.kaggle.com/arthurtok/feature-ranking-rfe-random-forest-linear-models"
   ]
  },
  {
   "cell_type": "code",
   "execution_count": 31,
   "metadata": {
    "collapsed": true,
    "deletable": true,
    "editable": true
   },
   "outputs": [],
   "source": [
    "#Convert Y to the top performing binary response \n",
    "Y = Y_MinorityPct >= 0.9"
   ]
  },
  {
   "cell_type": "code",
   "execution_count": 32,
   "metadata": {
    "collapsed": false,
    "deletable": true,
    "editable": true
   },
   "outputs": [
    {
     "data": {
      "text/plain": [
       "RFECV(cv=ShuffleSplit(n_splits=10, random_state=0, test_size=0.1, train_size=None),\n",
       "   estimator=LogisticRegression(C=100, class_weight='balanced', dual=False,\n",
       "          fit_intercept=True, intercept_scaling=1, max_iter=100,\n",
       "          multi_class='ovr', n_jobs=1, penalty='l2', random_state=0,\n",
       "          solver='lbfgs', tol=0.0001, verbose=0, warm_start=False),\n",
       "   n_jobs=1, scoring='accuracy', step=1, verbose=0)"
      ]
     },
     "execution_count": 32,
     "metadata": {},
     "output_type": "execute_result"
    }
   ],
   "source": [
    "from sklearn.feature_selection import RFECV\n",
    "\n",
    "#Create a regression estimator with best parameters for cross validation\n",
    "classifierEst = regGridSearch.best_estimator_\n",
    "\n",
    "rfecv = RFECV(estimator=classifierEst, step=1, cv=cv, scoring='accuracy')\n",
    "rfecv.fit(X_highSchools, Y)"
   ]
  },
  {
   "cell_type": "code",
   "execution_count": 33,
   "metadata": {
    "collapsed": false,
    "deletable": true,
    "editable": true
   },
   "outputs": [
    {
     "name": "stdout",
     "output_type": "stream",
     "text": [
      "Optimal number of features : 81\n"
     ]
    },
    {
     "data": {
      "image/png": "[encoded data removed]",
      "text/plain": [
       "<matplotlib.figure.Figure at 0xe771be0>"
      ]
     },
     "metadata": {},
     "output_type": "display_data"
    }
   ],
   "source": [
    "# Examine categorical variables of interest  \n",
    "import matplotlib.pyplot as plt\n",
    "%matplotlib inline\n",
    "\n",
    "print(\"Optimal number of features : %d\" % rfecv.n_features_)\n",
    "\n",
    "# Plot number of features VS. cross-validation scores\n",
    "plt.figure()\n",
    "plt.xlabel(\"Number of features selected\")\n",
    "plt.ylabel(\"Cross validation score (nb of correct classifications)\")\n",
    "plt.plot(range(1, len(rfecv.grid_scores_) + 1), rfecv.grid_scores_)\n",
    "plt.show()"
   ]
  },
  {
   "cell_type": "code",
   "execution_count": 34,
   "metadata": {
    "collapsed": false,
    "deletable": true,
    "editable": true
   },
   "outputs": [
    {
     "data": {
      "text/html": [
       "<div>\n",
       "<style scoped>\n",
       "    .dataframe tbody tr th:only-of-type {\n",
       "        vertical-align: middle;\n",
       "    }\n",
       "\n",
       "    .dataframe tbody tr th {\n",
       "        vertical-align: top;\n",
       "    }\n",
       "\n",
       "    .dataframe thead th {\n",
       "        text-align: right;\n",
       "    }\n",
       "</style>\n",
       "<table border=\"1\" class=\"dataframe\">\n",
       "  <thead>\n",
       "    <tr style=\"text-align: right;\">\n",
       "      <th></th>\n",
       "      <th>feature_names</th>\n",
       "      <th>weights</th>\n",
       "    </tr>\n",
       "  </thead>\n",
       "  <tbody>\n",
       "    <tr>\n",
       "      <th>80</th>\n",
       "      <td>EOGMathGr6_GLP_LEP</td>\n",
       "      <td>0.951852</td>\n",
       "    </tr>\n",
       "    <tr>\n",
       "      <th>63</th>\n",
       "      <td>EOGReadingGr7_CACR_EDS</td>\n",
       "      <td>0.951852</td>\n",
       "    </tr>\n",
       "    <tr>\n",
       "      <th>69</th>\n",
       "      <td>EOG/EOCSubjects_CACR_LEP</td>\n",
       "      <td>0.951852</td>\n",
       "    </tr>\n",
       "    <tr>\n",
       "      <th>74</th>\n",
       "      <td>EOGGr7_GLP_LEP</td>\n",
       "      <td>0.951852</td>\n",
       "    </tr>\n",
       "    <tr>\n",
       "      <th>83</th>\n",
       "      <td>EOGMathGr8_CACR_LEP</td>\n",
       "      <td>0.950000</td>\n",
       "    </tr>\n",
       "    <tr>\n",
       "      <th>68</th>\n",
       "      <td>EOCMathI_CACR_LEP</td>\n",
       "      <td>0.950000</td>\n",
       "    </tr>\n",
       "    <tr>\n",
       "      <th>70</th>\n",
       "      <td>EOG/EOCSubjects_GLP_LEP</td>\n",
       "      <td>0.950000</td>\n",
       "    </tr>\n",
       "    <tr>\n",
       "      <th>98</th>\n",
       "      <td>EOGGr6_CACR_SWD</td>\n",
       "      <td>0.950000</td>\n",
       "    </tr>\n",
       "    <tr>\n",
       "      <th>76</th>\n",
       "      <td>EOGGr8_GLP_LEP</td>\n",
       "      <td>0.950000</td>\n",
       "    </tr>\n",
       "    <tr>\n",
       "      <th>86</th>\n",
       "      <td>EOGReadingGr3-8_GLP_LEP</td>\n",
       "      <td>0.948148</td>\n",
       "    </tr>\n",
       "    <tr>\n",
       "      <th>71</th>\n",
       "      <td>EOGGr6_CACR_LEP</td>\n",
       "      <td>0.948148</td>\n",
       "    </tr>\n",
       "    <tr>\n",
       "      <th>77</th>\n",
       "      <td>EOGMathGr3-8_CACR_LEP</td>\n",
       "      <td>0.948148</td>\n",
       "    </tr>\n",
       "    <tr>\n",
       "      <th>203</th>\n",
       "      <td>Developing_TCHR_Standard 3_Pct</td>\n",
       "      <td>0.948148</td>\n",
       "    </tr>\n",
       "    <tr>\n",
       "      <th>64</th>\n",
       "      <td>EOGReadingGr8_CACR_EDS</td>\n",
       "      <td>0.948148</td>\n",
       "    </tr>\n",
       "    <tr>\n",
       "      <th>66</th>\n",
       "      <td>EOGScienceGr5&amp;8_CACR_EDS</td>\n",
       "      <td>0.948148</td>\n",
       "    </tr>\n",
       "    <tr>\n",
       "      <th>67</th>\n",
       "      <td>EOGScienceGr8_CACR_EDS</td>\n",
       "      <td>0.948148</td>\n",
       "    </tr>\n",
       "    <tr>\n",
       "      <th>84</th>\n",
       "      <td>EOGMathGr8_GLP_LEP</td>\n",
       "      <td>0.946296</td>\n",
       "    </tr>\n",
       "    <tr>\n",
       "      <th>85</th>\n",
       "      <td>EOGReadingGr3-8_CACR_LEP</td>\n",
       "      <td>0.946296</td>\n",
       "    </tr>\n",
       "    <tr>\n",
       "      <th>101</th>\n",
       "      <td>EOGGr7_GLP_SWD</td>\n",
       "      <td>0.946296</td>\n",
       "    </tr>\n",
       "    <tr>\n",
       "      <th>88</th>\n",
       "      <td>EOGReadingGr6_GLP_LEP</td>\n",
       "      <td>0.946296</td>\n",
       "    </tr>\n",
       "    <tr>\n",
       "      <th>82</th>\n",
       "      <td>EOGMathGr7_GLP_LEP</td>\n",
       "      <td>0.946296</td>\n",
       "    </tr>\n",
       "    <tr>\n",
       "      <th>201</th>\n",
       "      <td>Developing_TCHR_Standard 1_Pct</td>\n",
       "      <td>0.946296</td>\n",
       "    </tr>\n",
       "    <tr>\n",
       "      <th>90</th>\n",
       "      <td>EOGReadingGr7_GLP_LEP</td>\n",
       "      <td>0.946296</td>\n",
       "    </tr>\n",
       "    <tr>\n",
       "      <th>102</th>\n",
       "      <td>EOGGr8_CACR_SWD</td>\n",
       "      <td>0.946296</td>\n",
       "    </tr>\n",
       "    <tr>\n",
       "      <th>97</th>\n",
       "      <td>EOG/EOCSubjects_CACR_SWD</td>\n",
       "      <td>0.946296</td>\n",
       "    </tr>\n",
       "    <tr>\n",
       "      <th>99</th>\n",
       "      <td>EOGGr6_GLP_SWD</td>\n",
       "      <td>0.946296</td>\n",
       "    </tr>\n",
       "    <tr>\n",
       "      <th>73</th>\n",
       "      <td>EOGGr7_CACR_LEP</td>\n",
       "      <td>0.946296</td>\n",
       "    </tr>\n",
       "    <tr>\n",
       "      <th>62</th>\n",
       "      <td>EOGReadingGr6_CACR_EDS</td>\n",
       "      <td>0.946296</td>\n",
       "    </tr>\n",
       "    <tr>\n",
       "      <th>87</th>\n",
       "      <td>EOGReadingGr6_CACR_LEP</td>\n",
       "      <td>0.944444</td>\n",
       "    </tr>\n",
       "    <tr>\n",
       "      <th>92</th>\n",
       "      <td>EOGReadingGr8_GLP_LEP</td>\n",
       "      <td>0.944444</td>\n",
       "    </tr>\n",
       "    <tr>\n",
       "      <th>95</th>\n",
       "      <td>EOCMathI_CACR_SWD</td>\n",
       "      <td>0.944444</td>\n",
       "    </tr>\n",
       "    <tr>\n",
       "      <th>121</th>\n",
       "      <td>EOGScienceGr8_CACR_SWD</td>\n",
       "      <td>0.944444</td>\n",
       "    </tr>\n",
       "    <tr>\n",
       "      <th>78</th>\n",
       "      <td>EOGMathGr3-8_GLP_LEP</td>\n",
       "      <td>0.944444</td>\n",
       "    </tr>\n",
       "    <tr>\n",
       "      <th>79</th>\n",
       "      <td>EOGMathGr6_CACR_LEP</td>\n",
       "      <td>0.944444</td>\n",
       "    </tr>\n",
       "    <tr>\n",
       "      <th>106</th>\n",
       "      <td>EOGMathGr6_GLP_SWD</td>\n",
       "      <td>0.944444</td>\n",
       "    </tr>\n",
       "    <tr>\n",
       "      <th>210</th>\n",
       "      <td>Distinguished_TCHR_Standard 5_Pct</td>\n",
       "      <td>0.944444</td>\n",
       "    </tr>\n",
       "    <tr>\n",
       "      <th>114</th>\n",
       "      <td>EOGReadingGr6_GLP_SWD</td>\n",
       "      <td>0.944444</td>\n",
       "    </tr>\n",
       "    <tr>\n",
       "      <th>81</th>\n",
       "      <td>EOGMathGr7_CACR_LEP</td>\n",
       "      <td>0.944444</td>\n",
       "    </tr>\n",
       "    <tr>\n",
       "      <th>113</th>\n",
       "      <td>EOGReadingGr6_CACR_SWD</td>\n",
       "      <td>0.944444</td>\n",
       "    </tr>\n",
       "    <tr>\n",
       "      <th>159</th>\n",
       "      <td>st_crime_per_c_num</td>\n",
       "      <td>0.944444</td>\n",
       "    </tr>\n",
       "    <tr>\n",
       "      <th>151</th>\n",
       "      <td>stud_internet_comp_num</td>\n",
       "      <td>0.944444</td>\n",
       "    </tr>\n",
       "    <tr>\n",
       "      <th>148</th>\n",
       "      <td>short_susp_per_c_num</td>\n",
       "      <td>0.944444</td>\n",
       "    </tr>\n",
       "    <tr>\n",
       "      <th>213</th>\n",
       "      <td>Meets Expected Growth_TCHR_Standard 6_Pct</td>\n",
       "      <td>0.944444</td>\n",
       "    </tr>\n",
       "    <tr>\n",
       "      <th>59</th>\n",
       "      <td>EOGMathGr7_CACR_EDS</td>\n",
       "      <td>0.944444</td>\n",
       "    </tr>\n",
       "    <tr>\n",
       "      <th>89</th>\n",
       "      <td>EOGReadingGr7_CACR_LEP</td>\n",
       "      <td>0.942593</td>\n",
       "    </tr>\n",
       "    <tr>\n",
       "      <th>96</th>\n",
       "      <td>EOCSubjects_CACR_SWD</td>\n",
       "      <td>0.942593</td>\n",
       "    </tr>\n",
       "    <tr>\n",
       "      <th>152</th>\n",
       "      <td>lea_avg_daily_attend_pct</td>\n",
       "      <td>0.942593</td>\n",
       "    </tr>\n",
       "    <tr>\n",
       "      <th>153</th>\n",
       "      <td>lea_crime_per_c_num</td>\n",
       "      <td>0.942593</td>\n",
       "    </tr>\n",
       "    <tr>\n",
       "      <th>241</th>\n",
       "      <td>grade_range_cd_7-8</td>\n",
       "      <td>0.942593</td>\n",
       "    </tr>\n",
       "    <tr>\n",
       "      <th>154</th>\n",
       "      <td>lea_short_susp_per_c_num</td>\n",
       "      <td>0.942593</td>\n",
       "    </tr>\n",
       "  </tbody>\n",
       "</table>\n",
       "</div>"
      ],
      "text/plain": [
       "                                 feature_names   weights\n",
       "80                          EOGMathGr6_GLP_LEP  0.951852\n",
       "63                      EOGReadingGr7_CACR_EDS  0.951852\n",
       "69                    EOG/EOCSubjects_CACR_LEP  0.951852\n",
       "74                              EOGGr7_GLP_LEP  0.951852\n",
       "83                         EOGMathGr8_CACR_LEP  0.950000\n",
       "68                           EOCMathI_CACR_LEP  0.950000\n",
       "70                     EOG/EOCSubjects_GLP_LEP  0.950000\n",
       "98                             EOGGr6_CACR_SWD  0.950000\n",
       "76                              EOGGr8_GLP_LEP  0.950000\n",
       "86                     EOGReadingGr3-8_GLP_LEP  0.948148\n",
       "71                             EOGGr6_CACR_LEP  0.948148\n",
       "77                       EOGMathGr3-8_CACR_LEP  0.948148\n",
       "203             Developing_TCHR_Standard 3_Pct  0.948148\n",
       "64                      EOGReadingGr8_CACR_EDS  0.948148\n",
       "66                    EOGScienceGr5&8_CACR_EDS  0.948148\n",
       "67                      EOGScienceGr8_CACR_EDS  0.948148\n",
       "84                          EOGMathGr8_GLP_LEP  0.946296\n",
       "85                    EOGReadingGr3-8_CACR_LEP  0.946296\n",
       "101                             EOGGr7_GLP_SWD  0.946296\n",
       "88                       EOGReadingGr6_GLP_LEP  0.946296\n",
       "82                          EOGMathGr7_GLP_LEP  0.946296\n",
       "201             Developing_TCHR_Standard 1_Pct  0.946296\n",
       "90                       EOGReadingGr7_GLP_LEP  0.946296\n",
       "102                            EOGGr8_CACR_SWD  0.946296\n",
       "97                    EOG/EOCSubjects_CACR_SWD  0.946296\n",
       "99                              EOGGr6_GLP_SWD  0.946296\n",
       "73                             EOGGr7_CACR_LEP  0.946296\n",
       "62                      EOGReadingGr6_CACR_EDS  0.946296\n",
       "87                      EOGReadingGr6_CACR_LEP  0.944444\n",
       "92                       EOGReadingGr8_GLP_LEP  0.944444\n",
       "95                           EOCMathI_CACR_SWD  0.944444\n",
       "121                     EOGScienceGr8_CACR_SWD  0.944444\n",
       "78                        EOGMathGr3-8_GLP_LEP  0.944444\n",
       "79                         EOGMathGr6_CACR_LEP  0.944444\n",
       "106                         EOGMathGr6_GLP_SWD  0.944444\n",
       "210          Distinguished_TCHR_Standard 5_Pct  0.944444\n",
       "114                      EOGReadingGr6_GLP_SWD  0.944444\n",
       "81                         EOGMathGr7_CACR_LEP  0.944444\n",
       "113                     EOGReadingGr6_CACR_SWD  0.944444\n",
       "159                         st_crime_per_c_num  0.944444\n",
       "151                     stud_internet_comp_num  0.944444\n",
       "148                       short_susp_per_c_num  0.944444\n",
       "213  Meets Expected Growth_TCHR_Standard 6_Pct  0.944444\n",
       "59                         EOGMathGr7_CACR_EDS  0.944444\n",
       "89                      EOGReadingGr7_CACR_LEP  0.942593\n",
       "96                        EOCSubjects_CACR_SWD  0.942593\n",
       "152                   lea_avg_daily_attend_pct  0.942593\n",
       "153                        lea_crime_per_c_num  0.942593\n",
       "241                         grade_range_cd_7-8  0.942593\n",
       "154                   lea_short_susp_per_c_num  0.942593"
      ]
     },
     "execution_count": 34,
     "metadata": {},
     "output_type": "execute_result"
    }
   ],
   "source": [
    "#Plot the RFE Rankings\n",
    "plt.style.use('ggplot')\n",
    "\n",
    "rfe_ft_imp_df = pd.DataFrame({'feature_names':X_highSchools.columns, 'weights':rfecv.grid_scores_})\n",
    "rfe_ft_imp_df.sort_values(by='weights', inplace=True, ascending=False )\n",
    "\n",
    "top50features = rfe_ft_imp_df.head(50)\n",
    "\n",
    "top50features"
   ]
  },
  {
   "cell_type": "code",
   "execution_count": null,
   "metadata": {
    "collapsed": true,
    "deletable": true,
    "editable": true
   },
   "outputs": [],
   "source": []
  }
 ],
 "metadata": {
  "kernelspec": {
   "display_name": "Python 2",
   "language": "python",
   "name": "python2"
  },
  "language_info": {
   "codemirror_mode": {
    "name": "ipython",
    "version": 2
   },
   "file_extension": ".py",
   "mimetype": "text/x-python",
   "name": "python",
   "nbconvert_exporter": "python",
   "pygments_lexer": "ipython2",
   "version": "2.7.11"
  }
 },
 "nbformat": 4,
 "nbformat_minor": 0
}
