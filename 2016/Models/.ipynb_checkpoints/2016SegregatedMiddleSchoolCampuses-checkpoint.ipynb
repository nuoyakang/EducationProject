{
 "cells": [
  {
   "cell_type": "markdown",
   "metadata": {
    "deletable": true,
    "editable": true
   },
   "source": [
    "## Predicting the Minority Percentage for Public Schools\n",
    "**This notebook explores predicting the Minority Percentage for public high schools in North Carolina.** \n",
    "* Using **NO** racial composition data, can we predict the minority percentage for a public high school?\n",
    "* The North Carolina Educational Attainment Data Repository for Machine Learning is located on Github at: https://github.com/jakemdrew/EducationDataNC \n",
    "* Since the response variable is highly unbalanced we choose to set the *class_weight* parameter to 'balanced.  While this lowers overall accuracy, it almost doubles recall which is the model's ability to accurately identify highly segeregated schools. \n",
    "\n",
    "**For documentation on various Generalized Linear Models in Sklearn see:**\n",
    "* http://scikit-learn.org/stable/modules/linear_model.html\n",
    "* https://stackoverflow.com/questions/33845539/modelling-probabilities-in-a-regularized-logistic-regression-model-in-python"
   ]
  },
  {
   "cell_type": "code",
   "execution_count": 1,
   "metadata": {
    "collapsed": false,
    "deletable": true,
    "editable": true
   },
   "outputs": [
    {
     "name": "stdout",
     "output_type": "stream",
     "text": [
      "<class 'pandas.core.frame.DataFrame'>\n",
      "RangeIndex: 535 entries, 0 to 534\n",
      "Columns: 391 entries, student_num to unit_code\n",
      "dtypes: float64(316), int64(75)\n",
      "memory usage: 1.6 MB\n"
     ]
    }
   ],
   "source": [
    "#import required Libraries\n",
    "import pandas as pd\n",
    "import numpy as np\n",
    "\n",
    "#The 'path' variable may also be a URL pointing to the proper raw file path on github: \n",
    "#path=\"https://raw.githubusercontent.com/jakemdrew/EducationDataNC/master/2017/Machine%20Learning%20Datasets/PublicHighSchools2017_ML.csv\"\n",
    "\n",
    "path=\"C:/Users/Jake/Documents/GitHub/EducationDataNC/2016/Machine Learning Datasets/PublicMiddleSchools2016_ML.csv\"\n",
    "schData=pd.read_csv(path, low_memory=False)\n",
    "\n",
    "#inspect data \n",
    "schData.info(verbose=False)"
   ]
  },
  {
   "cell_type": "code",
   "execution_count": 2,
   "metadata": {
    "collapsed": false,
    "deletable": true,
    "editable": true
   },
   "outputs": [
    {
     "name": "stdout",
     "output_type": "stream",
     "text": [
      "<class 'pandas.core.frame.DataFrame'>\n",
      "RangeIndex: 535 entries, 0 to 534\n",
      "Columns: 2 entries, unit_code to MinorityPct\n",
      "dtypes: float64(1), int64(1)\n",
      "memory usage: 8.4 KB\n",
      "*********************************After: MinorityPct Added***********************\n",
      "<class 'pandas.core.frame.DataFrame'>\n",
      "Int64Index: 535 entries, 0 to 534\n",
      "Columns: 392 entries, student_num to MinorityPct\n",
      "dtypes: float64(317), int64(75)\n",
      "memory usage: 1.6 MB\n"
     ]
    }
   ],
   "source": [
    "#The MinorityPct field was removed from the _ML dataset for being highly correlated with other racial composition fields\n",
    "#We will merge it back in to the _ML dataset, since this is our response variable. \n",
    "path=\"C:/Users/Jake/Documents/GitHub/EducationDataNC/2016/School Datasets/PublicMiddleSchools2016.csv\"\n",
    "responseData=pd.read_csv(path, low_memory=False)\n",
    "\n",
    "responseData = responseData[['unit_code','MinorityPct']]\n",
    "\n",
    "#inspect data \n",
    "responseData.info(verbose=False)\n",
    "\n",
    "\n",
    "\n",
    "#Merge the response variable into our _ML data (schData)\n",
    "schData = schData.merge(responseData,how='left',on='unit_code', suffixes=('', '_Drop'))\n",
    "\n",
    "print('*********************************After: MinorityPct Added***********************')\n",
    "schData.info(verbose=False)"
   ]
  },
  {
   "cell_type": "code",
   "execution_count": 35,
   "metadata": {
    "collapsed": false,
    "deletable": true,
    "editable": true
   },
   "outputs": [
    {
     "data": {
      "image/png": "[encoded data removed]",
      "text/plain": [
       "<matplotlib.figure.Figure at 0xe94ea20>"
      ]
     },
     "metadata": {},
     "output_type": "display_data"
    }
   ],
   "source": [
    "import seaborn as sns\n",
    "import matplotlib.pyplot as plt\n",
    "\n",
    "sns.set(color_codes=True)\n",
    "hst = sns.distplot(schData['MinorityPct'], kde=False)\n",
    "hst.set_xlabel(\"Campus Minority Percentage\")\n",
    "#Assign output of plt.xticks() to x to surpress xticks() function output \n",
    "_ = plt.xticks([0.1,0.2,0.3,0.4,0.5,0.6,0.7,0.8,0.9,0.10])\n",
    "_ = plt.title('Count of Public School Campuses By Minority Percentage ')"
   ]
  },
  {
   "cell_type": "code",
   "execution_count": 4,
   "metadata": {
    "collapsed": false,
    "deletable": true,
    "editable": true
   },
   "outputs": [
    {
     "data": {
      "text/plain": [
       "Index([u'EOCMathI_CACR_AmericanIndian', u'EOG/EOCSubjects_CACR_AmericanIndian',\n",
       "       u'EOGGr6_CACR_AmericanIndian', u'EOGGr7_CACR_AmericanIndian',\n",
       "       u'EOGGr8_CACR_AmericanIndian', u'EOGMathGr3-8_CACR_AmericanIndian',\n",
       "       u'EOGMathGr6_CACR_AmericanIndian', u'EOGMathGr7_CACR_AmericanIndian',\n",
       "       u'EOGMathGr7_GLP_AmericanIndian', u'EOGMathGr8_CACR_AmericanIndian',\n",
       "       u'EOGReadingGr3-8_CACR_AmericanIndian',\n",
       "       u'EOGReadingGr6_CACR_AmericanIndian',\n",
       "       u'EOGReadingGr7_CACR_AmericanIndian',\n",
       "       u'EOGReadingGr8_CACR_AmericanIndian', u'EOCMathI_CACR_Asian',\n",
       "       u'EOG/EOCSubjects_CACR_Asian', u'EOGGr6_CACR_Asian',\n",
       "       u'EOGGr7_CACR_Asian', u'EOGGr8_CACR_Asian', u'EOGMathGr3-8_CACR_Asian',\n",
       "       u'EOGMathGr6_CACR_Asian', u'EOGMathGr7_CACR_Asian',\n",
       "       u'EOGMathGr8_CACR_Asian', u'EOGSubjects_CACR_Asian',\n",
       "       u'EOCMathI_CACR_Black', u'EOG/EOCSubjects_CACR_Black',\n",
       "       u'EOGGr6_CACR_Black', u'EOGGr7_CACR_Black', u'EOGGr8_CACR_Black',\n",
       "       u'EOGMathGr3-8_CACR_Black', u'EOGMathGr6_CACR_Black',\n",
       "       u'EOGMathGr7_CACR_Black', u'EOGMathGr8_CACR_Black',\n",
       "       u'EOGReadingGr3-8_CACR_Black', u'EOGReadingGr6_CACR_Black',\n",
       "       u'EOGReadingGr7_CACR_Black', u'EOGReadingGr8_CACR_Black',\n",
       "       u'EOGScienceGr5&8_CACR_Black', u'EOGScienceGr8_CACR_Black',\n",
       "       u'EOCMathI_CACR_Hispanic', u'EOG/EOCSubjects_CACR_Hispanic',\n",
       "       u'EOGGr6_CACR_Hispanic', u'EOGGr7_CACR_Hispanic',\n",
       "       u'EOGGr8_CACR_Hispanic', u'EOGMathGr3-8_CACR_Hispanic',\n",
       "       u'EOGMathGr6_CACR_Hispanic', u'EOGMathGr7_CACR_Hispanic',\n",
       "       u'EOGMathGr8_CACR_Hispanic', u'EOGReadingGr3-8_CACR_Hispanic',\n",
       "       u'EOGReadingGr6_CACR_Hispanic', u'EOGReadingGr7_CACR_Hispanic',\n",
       "       u'EOGReadingGr8_CACR_Hispanic', u'EOGScienceGr5&8_CACR_Hispanic',\n",
       "       u'EOGScienceGr8_CACR_Hispanic', u'EOCMathI_CACR_White',\n",
       "       u'EOG/EOCSubjects_CACR_White', u'EOGGr6_CACR_White',\n",
       "       u'EOGGr7_CACR_White', u'EOGGr8_CACR_White', u'EOGMathGr3-8_CACR_White',\n",
       "       u'EOGMathGr6_CACR_White', u'EOGMathGr7_CACR_White',\n",
       "       u'EOGMathGr8_CACR_White', u'EOGReadingGr3-8_CACR_White',\n",
       "       u'EOGReadingGr6_CACR_White', u'EOGReadingGr7_CACR_White',\n",
       "       u'EOGReadingGr8_CACR_White', u'EOGScienceGr5&8_CACR_White',\n",
       "       u'EOGScienceGr8_CACR_White', u'AsianFemalePct', u'AsianMalePct',\n",
       "       u'BlackFemalePct', u'BlackMalePct', u'HispanicFemalePct',\n",
       "       u'HispanicMalePct', u'IndianFemalePct', u'MinorityFemalePct',\n",
       "       u'MinorityMalePct', u'MinorityPct'],\n",
       "      dtype='object')"
      ]
     },
     "execution_count": 4,
     "metadata": {},
     "output_type": "execute_result"
    }
   ],
   "source": [
    "#Delete all racial composition data from our dataset. \n",
    "raceCompositionFields = ['Indian Male','Asian Male','Hispanic Male','Black Male','White Male'\n",
    "                         ,'Pacific Island Male','Pacific Island Female','Two or  More Male','Two or  More Female'\n",
    "                         ,'Pacific Island','Majority_Minority','White_Pct','Two or More']\n",
    "\n",
    "RaceCols = schData.columns[(schData.columns.str.lower().str.contains('indian')) | \n",
    "                           (schData.columns.str.lower().str.contains('asian')) |\n",
    "                           (schData.columns.str.lower().str.contains('hispanic')) |\n",
    "                           (schData.columns.str.lower().str.contains('black')) |\n",
    "                           (schData.columns.str.lower().str.contains('white')) |\n",
    "                           (schData.columns.str.lower().str.contains('pacific island')) |\n",
    "                           (schData.columns.str.lower().str.contains('two or  more')) |\n",
    "                           (schData.columns.str.lower().str.contains('minority'))]\n",
    "RaceCols"
   ]
  },
  {
   "cell_type": "code",
   "execution_count": 5,
   "metadata": {
    "collapsed": false,
    "deletable": true,
    "editable": true
   },
   "outputs": [
    {
     "name": "stdout",
     "output_type": "stream",
     "text": [
      "<class 'pandas.core.frame.DataFrame'>\n",
      "Int64Index: 535 entries, 0 to 534\n",
      "Columns: 313 entries, student_num to unit_code\n",
      "dtypes: float64(238), int64(75)\n",
      "memory usage: 1.3 MB\n"
     ]
    }
   ],
   "source": [
    "# create x explanatory and y response variables for regression\n",
    "Y_MinorityPct = schData['MinorityPct'] \n",
    "Y = Y_MinorityPct\n",
    "\n",
    "#Delete all racial composition data from our dataset.\n",
    "X_highSchools = schData.drop(RaceCols, axis=1)\n",
    "\n",
    "#inspect data \n",
    "X_highSchools.info()"
   ]
  },
  {
   "cell_type": "code",
   "execution_count": 6,
   "metadata": {
    "collapsed": true,
    "deletable": true,
    "editable": true
   },
   "outputs": [],
   "source": [
    "#Scale dataset converting to standard normally distributed data \n",
    "# (e.g. Gaussian with 0 mean and unit variance).\n",
    "#from sklearn.preprocessing import StandardScaler\n",
    "\n",
    "#Fit to data for scaling\n",
    "#scaler = StandardScaler()\n",
    "#scaler.fit(X_highSchools)\n",
    "\n",
    "#Transform training data to z-scores\n",
    "#This makes our model's coefficients take on the same scale for accurate feature importance analisys \n",
    "#X_highSchools = scaler.transform(X_highSchools)"
   ]
  },
  {
   "cell_type": "markdown",
   "metadata": {
    "deletable": true,
    "editable": true
   },
   "source": [
    "## Cross Validation\n",
    "**Cross validation is performed using repeated holdout using ShuffleSplit()**\n",
    "* Ten folds are used\n",
    "* The split is: 90% training data and 10% test data\n",
    "* A random seed is set so the same random test and training splits are used each time cross validation is performed."
   ]
  },
  {
   "cell_type": "code",
   "execution_count": 7,
   "metadata": {
    "collapsed": false,
    "deletable": true,
    "editable": true
   },
   "outputs": [],
   "source": [
    "#Divide data into test and training splits\n",
    "from sklearn.model_selection import ShuffleSplit\n",
    "cv = ShuffleSplit(n_splits=10, test_size=0.10, random_state=0)"
   ]
  },
  {
   "cell_type": "markdown",
   "metadata": {
    "deletable": true,
    "editable": true
   },
   "source": [
    "## Classifier Evaluation\n",
    "** The following function performs cross validation using cross_validate() for classification estimators and returns accuracy, precision, and recall.** "
   ]
  },
  {
   "cell_type": "code",
   "execution_count": 8,
   "metadata": {
    "collapsed": false,
    "deletable": true,
    "editable": true
   },
   "outputs": [],
   "source": [
    "from sklearn.model_selection import cross_validate\n",
    "\n",
    "def EvaluateClassifierEstimator(classifierEstimator, X, y, cv):\n",
    "   \n",
    "    #Perform cross validation \n",
    "    scores = cross_validate(classifierEstimator, X_highSchools, Y, scoring=['accuracy','precision','recall']\n",
    "                            , cv=cv, return_train_score=True)\n",
    "\n",
    "    Accavg = scores['test_accuracy'].mean()\n",
    "    Preavg = scores['test_precision'].mean()\n",
    "    Recavg = scores['test_recall'].mean()\n",
    "\n",
    "    print_str = \"The average accuracy for all cv folds is: \\t\\t\\t {Accavg:.5}\"\n",
    "    print_str2 = \"The average precision for all cv folds is: \\t\\t\\t {Preavg:.5}\"\n",
    "    print_str3 = \"The average recall for all cv folds is: \\t\\t\\t {Recavg:.5}\"\n",
    "\n",
    "    print(print_str.format(Accavg=Accavg))\n",
    "    print(print_str2.format(Preavg=Preavg))\n",
    "    print(print_str3.format(Recavg=Recavg))\n",
    "    print('*********************************************************')\n",
    "\n",
    "    print('Cross Validation Fold Mean Error Scores')\n",
    "    scoresResults = pd.DataFrame()\n",
    "    scoresResults['Accuracy'] = scores['test_accuracy']\n",
    "    scoresResults['Precision'] = scores['test_precision']\n",
    "    scoresResults['Recall'] = scores['test_recall']\n",
    "\n",
    "    return scoresResults\n",
    "\n",
    "def EvaluateClassifierEstimator2(classifierEstimator, X, y, cv):\n",
    "    \n",
    "    #Perform cross validation \n",
    "    from sklearn.model_selection import cross_val_predict\n",
    "    predictions = cross_val_predict(classifierEstimator, X_highSchools, Y, cv=cv)\n",
    "    \n",
    "    #model evaluation \n",
    "    from sklearn.metrics import classification_report, confusion_matrix, accuracy_score\n",
    "    \n",
    "    #pass true test set values and predictions to classification_report\n",
    "    classReport = classification_report(Y,predictions)\n",
    "    confMat = confusion_matrix(Y,predictions)\n",
    "    acc = accuracy_score(Y,predictions)\n",
    "    \n",
    "    print classReport\n",
    "    print confMat\n",
    "    print acc"
   ]
  },
  {
   "cell_type": "markdown",
   "metadata": {
    "collapsed": true,
    "deletable": true,
    "editable": true
   },
   "source": [
    "## Minority Percent - Logistic Regression \n",
    "**This model uses a Logistic Regression to classify public high schools as greater than 40% to 90% minorities. Please see documentation here: **\n",
    "* http://scikit-learn.org/stable/modules/generated/sklearn.linear_model.LogisticRegression.html"
   ]
  },
  {
   "cell_type": "code",
   "execution_count": 9,
   "metadata": {
    "collapsed": false,
    "deletable": true,
    "editable": true
   },
   "outputs": [
    {
     "name": "stdout",
     "output_type": "stream",
     "text": [
      "Fitting 10 folds for each of 14 candidates, totalling 140 fits\n"
     ]
    },
    {
     "name": "stderr",
     "output_type": "stream",
     "text": [
      "[Parallel(n_jobs=8)]: Done  34 tasks      | elapsed:    8.1s\n",
      "[Parallel(n_jobs=8)]: Done 140 out of 140 | elapsed:   16.8s finished\n"
     ]
    },
    {
     "data": {
      "text/plain": [
       "GridSearchCV(cv=ShuffleSplit(n_splits=10, random_state=0, test_size=0.1, train_size=None),\n",
       "       error_score='raise',\n",
       "       estimator=LogisticRegression(C=1.0, class_weight=None, dual=False, fit_intercept=True,\n",
       "          intercept_scaling=1, max_iter=100, multi_class='ovr', n_jobs=1,\n",
       "          penalty='l2', random_state=None, solver='liblinear', tol=0.0001,\n",
       "          verbose=0, warm_start=False),\n",
       "       fit_params=None, iid=True, n_jobs=8,\n",
       "       param_grid={'C': [0.001, 0.01, 0.1, 1, 10, 100, 1000], 'solver': ['lbfgs'], 'max_iter': [100, 500], 'penalty': ['l2'], 'random_state': [0], 'class_weight': ['balanced']},\n",
       "       pre_dispatch='2*n_jobs', refit=True, return_train_score='warn',\n",
       "       scoring='accuracy', verbose=1)"
      ]
     },
     "execution_count": 9,
     "metadata": {},
     "output_type": "execute_result"
    }
   ],
   "source": [
    "#Convert Y to a binary response variable \n",
    "Y = Y_MinorityPct >= 0.80\n",
    "\n",
    "#Logisitic regression 10-fold cross-validation \n",
    "from sklearn.linear_model import LogisticRegression\n",
    "regEstimator = LogisticRegression()\n",
    "\n",
    "\n",
    "parameters = { 'penalty':['l2']\n",
    "              ,'C': [0.001, 0.01, 0.1, 1, 10, 100, 1000]\n",
    "              ,'class_weight': ['balanced'] #,'none']\n",
    "              ,'random_state': [0]\n",
    "              ,'solver': ['lbfgs']\n",
    "              ,'max_iter':[100,500]\n",
    "             }\n",
    "\n",
    "#Create a grid search object using the  \n",
    "from sklearn.model_selection import GridSearchCV\n",
    "regGridSearch = GridSearchCV(estimator=regEstimator\n",
    "                   , n_jobs=8 # jobs to run in parallel\n",
    "                   , verbose=1 # low verbosity\n",
    "                   , param_grid=parameters\n",
    "                   , cv=cv # KFolds = 10\n",
    "                   , scoring='accuracy')\n",
    "\n",
    "#Perform hyperparameter search to find the best combination of parameters for our data\n",
    "regGridSearch.fit(X_highSchools, Y)"
   ]
  },
  {
   "cell_type": "code",
   "execution_count": 10,
   "metadata": {
    "collapsed": false,
    "deletable": true,
    "editable": true
   },
   "outputs": [
    {
     "data": {
      "text/plain": [
       "LogisticRegression(C=10, class_weight='balanced', dual=False,\n",
       "          fit_intercept=True, intercept_scaling=1, max_iter=500,\n",
       "          multi_class='ovr', n_jobs=1, penalty='l2', random_state=0,\n",
       "          solver='lbfgs', tol=0.0001, verbose=0, warm_start=False)"
      ]
     },
     "execution_count": 10,
     "metadata": {},
     "output_type": "execute_result"
    }
   ],
   "source": [
    "#Display the best estimator parameters\n",
    "regGridSearch.best_estimator_"
   ]
  },
  {
   "cell_type": "code",
   "execution_count": 11,
   "metadata": {
    "collapsed": false,
    "deletable": true,
    "editable": true
   },
   "outputs": [
    {
     "name": "stdout",
     "output_type": "stream",
     "text": [
      "The average accuracy for all cv folds is: \t\t\t 0.79815\n",
      "The average precision for all cv folds is: \t\t\t 0.84718\n",
      "The average recall for all cv folds is: \t\t\t 0.7922\n",
      "*********************************************************\n",
      "Cross Validation Fold Mean Error Scores\n"
     ]
    },
    {
     "data": {
      "text/html": [
       "<div>\n",
       "<style scoped>\n",
       "    .dataframe tbody tr th:only-of-type {\n",
       "        vertical-align: middle;\n",
       "    }\n",
       "\n",
       "    .dataframe tbody tr th {\n",
       "        vertical-align: top;\n",
       "    }\n",
       "\n",
       "    .dataframe thead th {\n",
       "        text-align: right;\n",
       "    }\n",
       "</style>\n",
       "<table border=\"1\" class=\"dataframe\">\n",
       "  <thead>\n",
       "    <tr style=\"text-align: right;\">\n",
       "      <th></th>\n",
       "      <th>Accuracy</th>\n",
       "      <th>Precision</th>\n",
       "      <th>Recall</th>\n",
       "    </tr>\n",
       "  </thead>\n",
       "  <tbody>\n",
       "    <tr>\n",
       "      <th>0</th>\n",
       "      <td>0.888889</td>\n",
       "      <td>0.900000</td>\n",
       "      <td>0.900000</td>\n",
       "    </tr>\n",
       "    <tr>\n",
       "      <th>1</th>\n",
       "      <td>0.722222</td>\n",
       "      <td>0.833333</td>\n",
       "      <td>0.645161</td>\n",
       "    </tr>\n",
       "    <tr>\n",
       "      <th>2</th>\n",
       "      <td>0.777778</td>\n",
       "      <td>0.787879</td>\n",
       "      <td>0.838710</td>\n",
       "    </tr>\n",
       "    <tr>\n",
       "      <th>3</th>\n",
       "      <td>0.833333</td>\n",
       "      <td>0.944444</td>\n",
       "      <td>0.829268</td>\n",
       "    </tr>\n",
       "    <tr>\n",
       "      <th>4</th>\n",
       "      <td>0.796296</td>\n",
       "      <td>0.888889</td>\n",
       "      <td>0.750000</td>\n",
       "    </tr>\n",
       "    <tr>\n",
       "      <th>5</th>\n",
       "      <td>0.851852</td>\n",
       "      <td>0.851852</td>\n",
       "      <td>0.851852</td>\n",
       "    </tr>\n",
       "    <tr>\n",
       "      <th>6</th>\n",
       "      <td>0.851852</td>\n",
       "      <td>0.843750</td>\n",
       "      <td>0.900000</td>\n",
       "    </tr>\n",
       "    <tr>\n",
       "      <th>7</th>\n",
       "      <td>0.851852</td>\n",
       "      <td>0.916667</td>\n",
       "      <td>0.785714</td>\n",
       "    </tr>\n",
       "    <tr>\n",
       "      <th>8</th>\n",
       "      <td>0.629630</td>\n",
       "      <td>0.730769</td>\n",
       "      <td>0.593750</td>\n",
       "    </tr>\n",
       "    <tr>\n",
       "      <th>9</th>\n",
       "      <td>0.777778</td>\n",
       "      <td>0.774194</td>\n",
       "      <td>0.827586</td>\n",
       "    </tr>\n",
       "  </tbody>\n",
       "</table>\n",
       "</div>"
      ],
      "text/plain": [
       "   Accuracy  Precision    Recall\n",
       "0  0.888889   0.900000  0.900000\n",
       "1  0.722222   0.833333  0.645161\n",
       "2  0.777778   0.787879  0.838710\n",
       "3  0.833333   0.944444  0.829268\n",
       "4  0.796296   0.888889  0.750000\n",
       "5  0.851852   0.851852  0.851852\n",
       "6  0.851852   0.843750  0.900000\n",
       "7  0.851852   0.916667  0.785714\n",
       "8  0.629630   0.730769  0.593750\n",
       "9  0.777778   0.774194  0.827586"
      ]
     },
     "execution_count": 11,
     "metadata": {},
     "output_type": "execute_result"
    }
   ],
   "source": [
    "#Convert Y to a binary response variable \n",
    "Y = Y_MinorityPct >= 0.40\n",
    "\n",
    "#Use the best parameters for our Linear Regression object\n",
    "classifierEst = regGridSearch.best_estimator_\n",
    "\n",
    "#Evaluate the regression estimator above using our pre-defined cross validation and scoring metrics. \n",
    "EvaluateClassifierEstimator(classifierEst, X_highSchools, Y, cv)"
   ]
  },
  {
   "cell_type": "code",
   "execution_count": 12,
   "metadata": {
    "collapsed": false,
    "deletable": true,
    "editable": true
   },
   "outputs": [
    {
     "name": "stdout",
     "output_type": "stream",
     "text": [
      "The average accuracy for all cv folds is: \t\t\t 0.78889\n",
      "The average precision for all cv folds is: \t\t\t 0.75175\n",
      "The average recall for all cv folds is: \t\t\t 0.76404\n",
      "*********************************************************\n",
      "Cross Validation Fold Mean Error Scores\n"
     ]
    },
    {
     "data": {
      "text/html": [
       "<div>\n",
       "<style scoped>\n",
       "    .dataframe tbody tr th:only-of-type {\n",
       "        vertical-align: middle;\n",
       "    }\n",
       "\n",
       "    .dataframe tbody tr th {\n",
       "        vertical-align: top;\n",
       "    }\n",
       "\n",
       "    .dataframe thead th {\n",
       "        text-align: right;\n",
       "    }\n",
       "</style>\n",
       "<table border=\"1\" class=\"dataframe\">\n",
       "  <thead>\n",
       "    <tr style=\"text-align: right;\">\n",
       "      <th></th>\n",
       "      <th>Accuracy</th>\n",
       "      <th>Precision</th>\n",
       "      <th>Recall</th>\n",
       "    </tr>\n",
       "  </thead>\n",
       "  <tbody>\n",
       "    <tr>\n",
       "      <th>0</th>\n",
       "      <td>0.851852</td>\n",
       "      <td>0.840000</td>\n",
       "      <td>0.840000</td>\n",
       "    </tr>\n",
       "    <tr>\n",
       "      <th>1</th>\n",
       "      <td>0.722222</td>\n",
       "      <td>0.687500</td>\n",
       "      <td>0.523810</td>\n",
       "    </tr>\n",
       "    <tr>\n",
       "      <th>2</th>\n",
       "      <td>0.851852</td>\n",
       "      <td>0.720000</td>\n",
       "      <td>0.947368</td>\n",
       "    </tr>\n",
       "    <tr>\n",
       "      <th>3</th>\n",
       "      <td>0.759259</td>\n",
       "      <td>0.827586</td>\n",
       "      <td>0.750000</td>\n",
       "    </tr>\n",
       "    <tr>\n",
       "      <th>4</th>\n",
       "      <td>0.870370</td>\n",
       "      <td>0.791667</td>\n",
       "      <td>0.904762</td>\n",
       "    </tr>\n",
       "    <tr>\n",
       "      <th>5</th>\n",
       "      <td>0.851852</td>\n",
       "      <td>0.750000</td>\n",
       "      <td>0.900000</td>\n",
       "    </tr>\n",
       "    <tr>\n",
       "      <th>6</th>\n",
       "      <td>0.759259</td>\n",
       "      <td>0.720000</td>\n",
       "      <td>0.750000</td>\n",
       "    </tr>\n",
       "    <tr>\n",
       "      <th>7</th>\n",
       "      <td>0.796296</td>\n",
       "      <td>0.750000</td>\n",
       "      <td>0.714286</td>\n",
       "    </tr>\n",
       "    <tr>\n",
       "      <th>8</th>\n",
       "      <td>0.648148</td>\n",
       "      <td>0.700000</td>\n",
       "      <td>0.518519</td>\n",
       "    </tr>\n",
       "    <tr>\n",
       "      <th>9</th>\n",
       "      <td>0.777778</td>\n",
       "      <td>0.730769</td>\n",
       "      <td>0.791667</td>\n",
       "    </tr>\n",
       "  </tbody>\n",
       "</table>\n",
       "</div>"
      ],
      "text/plain": [
       "   Accuracy  Precision    Recall\n",
       "0  0.851852   0.840000  0.840000\n",
       "1  0.722222   0.687500  0.523810\n",
       "2  0.851852   0.720000  0.947368\n",
       "3  0.759259   0.827586  0.750000\n",
       "4  0.870370   0.791667  0.904762\n",
       "5  0.851852   0.750000  0.900000\n",
       "6  0.759259   0.720000  0.750000\n",
       "7  0.796296   0.750000  0.714286\n",
       "8  0.648148   0.700000  0.518519\n",
       "9  0.777778   0.730769  0.791667"
      ]
     },
     "execution_count": 12,
     "metadata": {},
     "output_type": "execute_result"
    }
   ],
   "source": [
    "#Convert Y to a binary response variable \n",
    "Y = Y_MinorityPct >= 0.50\n",
    "\n",
    "#Use the best parameters for our Linear Regression object\n",
    "classifierEst = regGridSearch.best_estimator_\n",
    "\n",
    "#Evaluate the regression estimator above using our pre-defined cross validation and scoring metrics. \n",
    "EvaluateClassifierEstimator(classifierEst, X_highSchools, Y, cv)"
   ]
  },
  {
   "cell_type": "code",
   "execution_count": 13,
   "metadata": {
    "collapsed": false,
    "deletable": true,
    "editable": true
   },
   "outputs": [
    {
     "name": "stdout",
     "output_type": "stream",
     "text": [
      "             precision    recall  f1-score   support\n",
      "\n",
      "      False       0.81      0.79      0.80       300\n",
      "       True       0.74      0.77      0.75       235\n",
      "\n",
      "avg / total       0.78      0.78      0.78       535\n",
      "\n",
      "[[237  63]\n",
      " [ 55 180]]\n",
      "0.7794392523364486\n"
     ]
    }
   ],
   "source": [
    "EvaluateClassifierEstimator2(classifierEst, X_highSchools, Y, 10)"
   ]
  },
  {
   "cell_type": "code",
   "execution_count": 14,
   "metadata": {
    "collapsed": false,
    "deletable": true,
    "editable": true
   },
   "outputs": [
    {
     "name": "stdout",
     "output_type": "stream",
     "text": [
      "The average accuracy for all cv folds is: \t\t\t 0.8\n",
      "The average precision for all cv folds is: \t\t\t 0.69993\n",
      "The average recall for all cv folds is: \t\t\t 0.74554\n",
      "*********************************************************\n",
      "Cross Validation Fold Mean Error Scores\n"
     ]
    },
    {
     "data": {
      "text/html": [
       "<div>\n",
       "<style scoped>\n",
       "    .dataframe tbody tr th:only-of-type {\n",
       "        vertical-align: middle;\n",
       "    }\n",
       "\n",
       "    .dataframe tbody tr th {\n",
       "        vertical-align: top;\n",
       "    }\n",
       "\n",
       "    .dataframe thead th {\n",
       "        text-align: right;\n",
       "    }\n",
       "</style>\n",
       "<table border=\"1\" class=\"dataframe\">\n",
       "  <thead>\n",
       "    <tr style=\"text-align: right;\">\n",
       "      <th></th>\n",
       "      <th>Accuracy</th>\n",
       "      <th>Precision</th>\n",
       "      <th>Recall</th>\n",
       "    </tr>\n",
       "  </thead>\n",
       "  <tbody>\n",
       "    <tr>\n",
       "      <th>0</th>\n",
       "      <td>0.759259</td>\n",
       "      <td>0.650000</td>\n",
       "      <td>0.684211</td>\n",
       "    </tr>\n",
       "    <tr>\n",
       "      <th>1</th>\n",
       "      <td>0.796296</td>\n",
       "      <td>0.750000</td>\n",
       "      <td>0.529412</td>\n",
       "    </tr>\n",
       "    <tr>\n",
       "      <th>2</th>\n",
       "      <td>0.851852</td>\n",
       "      <td>0.666667</td>\n",
       "      <td>0.933333</td>\n",
       "    </tr>\n",
       "    <tr>\n",
       "      <th>3</th>\n",
       "      <td>0.777778</td>\n",
       "      <td>0.692308</td>\n",
       "      <td>0.818182</td>\n",
       "    </tr>\n",
       "    <tr>\n",
       "      <th>4</th>\n",
       "      <td>0.833333</td>\n",
       "      <td>0.750000</td>\n",
       "      <td>0.789474</td>\n",
       "    </tr>\n",
       "    <tr>\n",
       "      <th>5</th>\n",
       "      <td>0.907407</td>\n",
       "      <td>0.789474</td>\n",
       "      <td>0.937500</td>\n",
       "    </tr>\n",
       "    <tr>\n",
       "      <th>6</th>\n",
       "      <td>0.777778</td>\n",
       "      <td>0.640000</td>\n",
       "      <td>0.842105</td>\n",
       "    </tr>\n",
       "    <tr>\n",
       "      <th>7</th>\n",
       "      <td>0.851852</td>\n",
       "      <td>0.769231</td>\n",
       "      <td>0.666667</td>\n",
       "    </tr>\n",
       "    <tr>\n",
       "      <th>8</th>\n",
       "      <td>0.666667</td>\n",
       "      <td>0.625000</td>\n",
       "      <td>0.454545</td>\n",
       "    </tr>\n",
       "    <tr>\n",
       "      <th>9</th>\n",
       "      <td>0.777778</td>\n",
       "      <td>0.666667</td>\n",
       "      <td>0.800000</td>\n",
       "    </tr>\n",
       "  </tbody>\n",
       "</table>\n",
       "</div>"
      ],
      "text/plain": [
       "   Accuracy  Precision    Recall\n",
       "0  0.759259   0.650000  0.684211\n",
       "1  0.796296   0.750000  0.529412\n",
       "2  0.851852   0.666667  0.933333\n",
       "3  0.777778   0.692308  0.818182\n",
       "4  0.833333   0.750000  0.789474\n",
       "5  0.907407   0.789474  0.937500\n",
       "6  0.777778   0.640000  0.842105\n",
       "7  0.851852   0.769231  0.666667\n",
       "8  0.666667   0.625000  0.454545\n",
       "9  0.777778   0.666667  0.800000"
      ]
     },
     "execution_count": 14,
     "metadata": {},
     "output_type": "execute_result"
    }
   ],
   "source": [
    "#Convert Y to a binary response variable \n",
    "Y = Y_MinorityPct >= 0.60\n",
    "\n",
    "#Use the best parameters for our Linear Regression object\n",
    "classifierEst = regGridSearch.best_estimator_\n",
    "\n",
    "#Evaluate the regression estimator above using our pre-defined cross validation and scoring metrics. \n",
    "EvaluateClassifierEstimator(classifierEst, X_highSchools, Y, cv)"
   ]
  },
  {
   "cell_type": "code",
   "execution_count": 15,
   "metadata": {
    "collapsed": false,
    "deletable": true,
    "editable": true
   },
   "outputs": [
    {
     "name": "stdout",
     "output_type": "stream",
     "text": [
      "             precision    recall  f1-score   support\n",
      "\n",
      "      False       0.89      0.82      0.85       359\n",
      "       True       0.68      0.80      0.73       176\n",
      "\n",
      "avg / total       0.82      0.81      0.81       535\n",
      "\n",
      "[[293  66]\n",
      " [ 36 140]]\n",
      "0.8093457943925234\n"
     ]
    }
   ],
   "source": [
    "EvaluateClassifierEstimator2(classifierEst, X_highSchools, Y, 10)"
   ]
  },
  {
   "cell_type": "markdown",
   "metadata": {
    "deletable": true,
    "editable": true
   },
   "source": [
    "**The next model uses a Logistic Regression to classify public high schools as greater than 90% minority**"
   ]
  },
  {
   "cell_type": "code",
   "execution_count": 16,
   "metadata": {
    "collapsed": false,
    "deletable": true,
    "editable": true
   },
   "outputs": [
    {
     "name": "stdout",
     "output_type": "stream",
     "text": [
      "The average accuracy for all cv folds is: \t\t\t 0.83519\n",
      "The average precision for all cv folds is: \t\t\t 0.65655\n",
      "The average recall for all cv folds is: \t\t\t 0.78572\n",
      "*********************************************************\n",
      "Cross Validation Fold Mean Error Scores\n"
     ]
    },
    {
     "data": {
      "text/html": [
       "<div>\n",
       "<style scoped>\n",
       "    .dataframe tbody tr th:only-of-type {\n",
       "        vertical-align: middle;\n",
       "    }\n",
       "\n",
       "    .dataframe tbody tr th {\n",
       "        vertical-align: top;\n",
       "    }\n",
       "\n",
       "    .dataframe thead th {\n",
       "        text-align: right;\n",
       "    }\n",
       "</style>\n",
       "<table border=\"1\" class=\"dataframe\">\n",
       "  <thead>\n",
       "    <tr style=\"text-align: right;\">\n",
       "      <th></th>\n",
       "      <th>Accuracy</th>\n",
       "      <th>Precision</th>\n",
       "      <th>Recall</th>\n",
       "    </tr>\n",
       "  </thead>\n",
       "  <tbody>\n",
       "    <tr>\n",
       "      <th>0</th>\n",
       "      <td>0.814815</td>\n",
       "      <td>0.550000</td>\n",
       "      <td>0.916667</td>\n",
       "    </tr>\n",
       "    <tr>\n",
       "      <th>1</th>\n",
       "      <td>0.870370</td>\n",
       "      <td>0.777778</td>\n",
       "      <td>0.583333</td>\n",
       "    </tr>\n",
       "    <tr>\n",
       "      <th>2</th>\n",
       "      <td>0.907407</td>\n",
       "      <td>0.722222</td>\n",
       "      <td>1.000000</td>\n",
       "    </tr>\n",
       "    <tr>\n",
       "      <th>3</th>\n",
       "      <td>0.777778</td>\n",
       "      <td>0.571429</td>\n",
       "      <td>0.800000</td>\n",
       "    </tr>\n",
       "    <tr>\n",
       "      <th>4</th>\n",
       "      <td>0.870370</td>\n",
       "      <td>0.785714</td>\n",
       "      <td>0.733333</td>\n",
       "    </tr>\n",
       "    <tr>\n",
       "      <th>5</th>\n",
       "      <td>0.851852</td>\n",
       "      <td>0.666667</td>\n",
       "      <td>0.857143</td>\n",
       "    </tr>\n",
       "    <tr>\n",
       "      <th>6</th>\n",
       "      <td>0.703704</td>\n",
       "      <td>0.450000</td>\n",
       "      <td>0.642857</td>\n",
       "    </tr>\n",
       "    <tr>\n",
       "      <th>7</th>\n",
       "      <td>0.870370</td>\n",
       "      <td>0.666667</td>\n",
       "      <td>0.727273</td>\n",
       "    </tr>\n",
       "    <tr>\n",
       "      <th>8</th>\n",
       "      <td>0.814815</td>\n",
       "      <td>0.625000</td>\n",
       "      <td>0.714286</td>\n",
       "    </tr>\n",
       "    <tr>\n",
       "      <th>9</th>\n",
       "      <td>0.870370</td>\n",
       "      <td>0.750000</td>\n",
       "      <td>0.882353</td>\n",
       "    </tr>\n",
       "  </tbody>\n",
       "</table>\n",
       "</div>"
      ],
      "text/plain": [
       "   Accuracy  Precision    Recall\n",
       "0  0.814815   0.550000  0.916667\n",
       "1  0.870370   0.777778  0.583333\n",
       "2  0.907407   0.722222  1.000000\n",
       "3  0.777778   0.571429  0.800000\n",
       "4  0.870370   0.785714  0.733333\n",
       "5  0.851852   0.666667  0.857143\n",
       "6  0.703704   0.450000  0.642857\n",
       "7  0.870370   0.666667  0.727273\n",
       "8  0.814815   0.625000  0.714286\n",
       "9  0.870370   0.750000  0.882353"
      ]
     },
     "execution_count": 16,
     "metadata": {},
     "output_type": "execute_result"
    }
   ],
   "source": [
    "#Convert Y to a binary response variable \n",
    "Y = Y_MinorityPct >= 0.70\n",
    "\n",
    "#Use the best parameters for our Linear Regression object\n",
    "classifierEst = regGridSearch.best_estimator_\n",
    "\n",
    "#Evaluate the regression estimator above using our pre-defined cross validation and scoring metrics. \n",
    "EvaluateClassifierEstimator(classifierEst, X_highSchools, Y, cv)"
   ]
  },
  {
   "cell_type": "code",
   "execution_count": 17,
   "metadata": {
    "collapsed": false,
    "deletable": true,
    "editable": true
   },
   "outputs": [
    {
     "name": "stdout",
     "output_type": "stream",
     "text": [
      "             precision    recall  f1-score   support\n",
      "\n",
      "      False       0.93      0.83      0.88       405\n",
      "       True       0.60      0.79      0.68       130\n",
      "\n",
      "avg / total       0.85      0.82      0.83       535\n",
      "\n",
      "[[336  69]\n",
      " [ 27 103]]\n",
      "0.8205607476635514\n"
     ]
    }
   ],
   "source": [
    "EvaluateClassifierEstimator2(classifierEst, X_highSchools, Y, 10)"
   ]
  },
  {
   "cell_type": "code",
   "execution_count": 18,
   "metadata": {
    "collapsed": false,
    "deletable": true,
    "editable": true
   },
   "outputs": [
    {
     "name": "stdout",
     "output_type": "stream",
     "text": [
      "The average accuracy for all cv folds is: \t\t\t 0.89444\n",
      "The average precision for all cv folds is: \t\t\t 0.59725\n",
      "The average recall for all cv folds is: \t\t\t 0.83802\n",
      "*********************************************************\n",
      "Cross Validation Fold Mean Error Scores\n"
     ]
    },
    {
     "data": {
      "text/html": [
       "<div>\n",
       "<style scoped>\n",
       "    .dataframe tbody tr th:only-of-type {\n",
       "        vertical-align: middle;\n",
       "    }\n",
       "\n",
       "    .dataframe tbody tr th {\n",
       "        vertical-align: top;\n",
       "    }\n",
       "\n",
       "    .dataframe thead th {\n",
       "        text-align: right;\n",
       "    }\n",
       "</style>\n",
       "<table border=\"1\" class=\"dataframe\">\n",
       "  <thead>\n",
       "    <tr style=\"text-align: right;\">\n",
       "      <th></th>\n",
       "      <th>Accuracy</th>\n",
       "      <th>Precision</th>\n",
       "      <th>Recall</th>\n",
       "    </tr>\n",
       "  </thead>\n",
       "  <tbody>\n",
       "    <tr>\n",
       "      <th>0</th>\n",
       "      <td>0.888889</td>\n",
       "      <td>0.615385</td>\n",
       "      <td>0.888889</td>\n",
       "    </tr>\n",
       "    <tr>\n",
       "      <th>1</th>\n",
       "      <td>0.925926</td>\n",
       "      <td>0.555556</td>\n",
       "      <td>1.000000</td>\n",
       "    </tr>\n",
       "    <tr>\n",
       "      <th>2</th>\n",
       "      <td>0.944444</td>\n",
       "      <td>0.769231</td>\n",
       "      <td>1.000000</td>\n",
       "    </tr>\n",
       "    <tr>\n",
       "      <th>3</th>\n",
       "      <td>0.814815</td>\n",
       "      <td>0.384615</td>\n",
       "      <td>0.714286</td>\n",
       "    </tr>\n",
       "    <tr>\n",
       "      <th>4</th>\n",
       "      <td>0.925926</td>\n",
       "      <td>0.750000</td>\n",
       "      <td>0.900000</td>\n",
       "    </tr>\n",
       "    <tr>\n",
       "      <th>5</th>\n",
       "      <td>0.870370</td>\n",
       "      <td>0.500000</td>\n",
       "      <td>0.714286</td>\n",
       "    </tr>\n",
       "    <tr>\n",
       "      <th>6</th>\n",
       "      <td>0.833333</td>\n",
       "      <td>0.272727</td>\n",
       "      <td>0.750000</td>\n",
       "    </tr>\n",
       "    <tr>\n",
       "      <th>7</th>\n",
       "      <td>0.925926</td>\n",
       "      <td>0.666667</td>\n",
       "      <td>0.857143</td>\n",
       "    </tr>\n",
       "    <tr>\n",
       "      <th>8</th>\n",
       "      <td>0.944444</td>\n",
       "      <td>0.875000</td>\n",
       "      <td>0.777778</td>\n",
       "    </tr>\n",
       "    <tr>\n",
       "      <th>9</th>\n",
       "      <td>0.870370</td>\n",
       "      <td>0.583333</td>\n",
       "      <td>0.777778</td>\n",
       "    </tr>\n",
       "  </tbody>\n",
       "</table>\n",
       "</div>"
      ],
      "text/plain": [
       "   Accuracy  Precision    Recall\n",
       "0  0.888889   0.615385  0.888889\n",
       "1  0.925926   0.555556  1.000000\n",
       "2  0.944444   0.769231  1.000000\n",
       "3  0.814815   0.384615  0.714286\n",
       "4  0.925926   0.750000  0.900000\n",
       "5  0.870370   0.500000  0.714286\n",
       "6  0.833333   0.272727  0.750000\n",
       "7  0.925926   0.666667  0.857143\n",
       "8  0.944444   0.875000  0.777778\n",
       "9  0.870370   0.583333  0.777778"
      ]
     },
     "execution_count": 18,
     "metadata": {},
     "output_type": "execute_result"
    }
   ],
   "source": [
    "#Convert Y to a binary response variable \n",
    "Y = Y_MinorityPct >= 0.80\n",
    "\n",
    "#Use the best parameters for our Linear Regression object\n",
    "classifierEst = regGridSearch.best_estimator_\n",
    "\n",
    "#Evaluate the regression estimator above using our pre-defined cross validation and scoring metrics. \n",
    "EvaluateClassifierEstimator(classifierEst, X_highSchools, Y, cv)"
   ]
  },
  {
   "cell_type": "code",
   "execution_count": 19,
   "metadata": {
    "collapsed": false,
    "deletable": true,
    "editable": true
   },
   "outputs": [
    {
     "name": "stdout",
     "output_type": "stream",
     "text": [
      "             precision    recall  f1-score   support\n",
      "\n",
      "      False       0.97      0.88      0.92       452\n",
      "       True       0.56      0.84      0.68        83\n",
      "\n",
      "avg / total       0.91      0.87      0.88       535\n",
      "\n",
      "[[398  54]\n",
      " [ 13  70]]\n",
      "0.874766355140187\n"
     ]
    }
   ],
   "source": [
    "EvaluateClassifierEstimator2(classifierEst, X_highSchools, Y, 10)"
   ]
  },
  {
   "cell_type": "code",
   "execution_count": 20,
   "metadata": {
    "collapsed": false,
    "deletable": true,
    "editable": true
   },
   "outputs": [
    {
     "name": "stdout",
     "output_type": "stream",
     "text": [
      "The average accuracy for all cv folds is: \t\t\t 0.93519\n",
      "The average precision for all cv folds is: \t\t\t 0.55484\n",
      "The average recall for all cv folds is: \t\t\t 0.84333\n",
      "*********************************************************\n",
      "Cross Validation Fold Mean Error Scores\n"
     ]
    },
    {
     "data": {
      "text/html": [
       "<div>\n",
       "<style scoped>\n",
       "    .dataframe tbody tr th:only-of-type {\n",
       "        vertical-align: middle;\n",
       "    }\n",
       "\n",
       "    .dataframe tbody tr th {\n",
       "        vertical-align: top;\n",
       "    }\n",
       "\n",
       "    .dataframe thead th {\n",
       "        text-align: right;\n",
       "    }\n",
       "</style>\n",
       "<table border=\"1\" class=\"dataframe\">\n",
       "  <thead>\n",
       "    <tr style=\"text-align: right;\">\n",
       "      <th></th>\n",
       "      <th>Accuracy</th>\n",
       "      <th>Precision</th>\n",
       "      <th>Recall</th>\n",
       "    </tr>\n",
       "  </thead>\n",
       "  <tbody>\n",
       "    <tr>\n",
       "      <th>0</th>\n",
       "      <td>0.944444</td>\n",
       "      <td>0.750000</td>\n",
       "      <td>0.600000</td>\n",
       "    </tr>\n",
       "    <tr>\n",
       "      <th>1</th>\n",
       "      <td>0.944444</td>\n",
       "      <td>0.571429</td>\n",
       "      <td>1.000000</td>\n",
       "    </tr>\n",
       "    <tr>\n",
       "      <th>2</th>\n",
       "      <td>0.944444</td>\n",
       "      <td>0.700000</td>\n",
       "      <td>1.000000</td>\n",
       "    </tr>\n",
       "    <tr>\n",
       "      <th>3</th>\n",
       "      <td>0.944444</td>\n",
       "      <td>0.333333</td>\n",
       "      <td>0.500000</td>\n",
       "    </tr>\n",
       "    <tr>\n",
       "      <th>4</th>\n",
       "      <td>0.907407</td>\n",
       "      <td>0.555556</td>\n",
       "      <td>0.833333</td>\n",
       "    </tr>\n",
       "    <tr>\n",
       "      <th>5</th>\n",
       "      <td>0.925926</td>\n",
       "      <td>0.400000</td>\n",
       "      <td>0.666667</td>\n",
       "    </tr>\n",
       "    <tr>\n",
       "      <th>6</th>\n",
       "      <td>0.944444</td>\n",
       "      <td>0.571429</td>\n",
       "      <td>1.000000</td>\n",
       "    </tr>\n",
       "    <tr>\n",
       "      <th>7</th>\n",
       "      <td>0.962963</td>\n",
       "      <td>0.833333</td>\n",
       "      <td>0.833333</td>\n",
       "    </tr>\n",
       "    <tr>\n",
       "      <th>8</th>\n",
       "      <td>0.925926</td>\n",
       "      <td>0.333333</td>\n",
       "      <td>1.000000</td>\n",
       "    </tr>\n",
       "    <tr>\n",
       "      <th>9</th>\n",
       "      <td>0.907407</td>\n",
       "      <td>0.500000</td>\n",
       "      <td>1.000000</td>\n",
       "    </tr>\n",
       "  </tbody>\n",
       "</table>\n",
       "</div>"
      ],
      "text/plain": [
       "   Accuracy  Precision    Recall\n",
       "0  0.944444   0.750000  0.600000\n",
       "1  0.944444   0.571429  1.000000\n",
       "2  0.944444   0.700000  1.000000\n",
       "3  0.944444   0.333333  0.500000\n",
       "4  0.907407   0.555556  0.833333\n",
       "5  0.925926   0.400000  0.666667\n",
       "6  0.944444   0.571429  1.000000\n",
       "7  0.962963   0.833333  0.833333\n",
       "8  0.925926   0.333333  1.000000\n",
       "9  0.907407   0.500000  1.000000"
      ]
     },
     "execution_count": 20,
     "metadata": {},
     "output_type": "execute_result"
    }
   ],
   "source": [
    "#Convert Y to a binary response variable \n",
    "Y = Y_MinorityPct >= 0.90\n",
    "\n",
    "#Use the best parameters for our Linear Regression object\n",
    "classifierEst = regGridSearch.best_estimator_\n",
    "\n",
    "#Evaluate the regression estimator above using our pre-defined cross validation and scoring metrics. \n",
    "EvaluateClassifierEstimator(classifierEst, X_highSchools, Y, cv)"
   ]
  },
  {
   "cell_type": "code",
   "execution_count": 21,
   "metadata": {
    "collapsed": false,
    "deletable": true,
    "editable": true
   },
   "outputs": [
    {
     "name": "stdout",
     "output_type": "stream",
     "text": [
      "             precision    recall  f1-score   support\n",
      "\n",
      "      False       0.98      0.90      0.94       488\n",
      "       True       0.43      0.77      0.55        47\n",
      "\n",
      "avg / total       0.93      0.89      0.90       535\n",
      "\n",
      "[[440  48]\n",
      " [ 11  36]]\n",
      "0.8897196261682243\n"
     ]
    }
   ],
   "source": [
    "EvaluateClassifierEstimator2(classifierEst, X_highSchools, Y, 10)"
   ]
  },
  {
   "cell_type": "markdown",
   "metadata": {
    "deletable": true,
    "editable": true
   },
   "source": [
    "# Top Performing Model Analisys\n",
    "## Testing Scaled vs. Unscaled Training Data\n",
    "**Cross validation is performed using both scaled and unscaled training data.**\n",
    "* A grid search is also performed on the scaled training data to determine the best parameters to use with the scaled training data.\n",
    "* We scale the data prior to looking at feature importances.  Since the raw features have different dynamic ranges, scaling the data first allows us to compare the model's coefficients accurately. \n",
    "* The scaled data makes more accurate predictions in many cases but not always!"
   ]
  },
  {
   "cell_type": "code",
   "execution_count": 22,
   "metadata": {
    "collapsed": true,
    "deletable": true,
    "editable": true
   },
   "outputs": [],
   "source": [
    "#Scale dataset converting to standard normally distributed data \n",
    "# (e.g. Gaussian with 0 mean and unit variance).\n",
    "from sklearn.preprocessing import StandardScaler\n",
    "\n",
    "#Fit to data for scaling\n",
    "scaler = StandardScaler()\n",
    "scaler.fit(X_highSchools)\n",
    "\n",
    "#Transform training data to z-scores\n",
    "#This makes our model's coefficients take on the same scale for accurate feature importance analisys \n",
    "X_highSchools_Scl = scaler.transform(X_highSchools)"
   ]
  },
  {
   "cell_type": "markdown",
   "metadata": {
    "deletable": true,
    "editable": true
   },
   "source": [
    "**In this case, I tested scaling the data before cross validation as well.**"
   ]
  },
  {
   "cell_type": "code",
   "execution_count": 23,
   "metadata": {
    "collapsed": false,
    "deletable": true,
    "editable": true
   },
   "outputs": [
    {
     "name": "stdout",
     "output_type": "stream",
     "text": [
      "Fitting 10 folds for each of 14 candidates, totalling 140 fits\n"
     ]
    },
    {
     "name": "stderr",
     "output_type": "stream",
     "text": [
      "[Parallel(n_jobs=8)]: Done  34 tasks      | elapsed:    6.0s\n",
      "[Parallel(n_jobs=8)]: Done 140 out of 140 | elapsed:    8.5s finished\n"
     ]
    },
    {
     "data": {
      "text/plain": [
       "GridSearchCV(cv=ShuffleSplit(n_splits=10, random_state=0, test_size=0.1, train_size=None),\n",
       "       error_score='raise',\n",
       "       estimator=LogisticRegression(C=1.0, class_weight=None, dual=False, fit_intercept=True,\n",
       "          intercept_scaling=1, max_iter=100, multi_class='ovr', n_jobs=1,\n",
       "          penalty='l2', random_state=None, solver='liblinear', tol=0.0001,\n",
       "          verbose=0, warm_start=False),\n",
       "       fit_params=None, iid=True, n_jobs=8,\n",
       "       param_grid={'C': [0.001, 0.01, 0.1, 1, 10, 100, 1000], 'solver': ['lbfgs'], 'max_iter': [100, 500], 'penalty': ['l2'], 'random_state': [0], 'class_weight': ['balanced']},\n",
       "       pre_dispatch='2*n_jobs', refit=True, return_train_score='warn',\n",
       "       scoring='accuracy', verbose=1)"
      ]
     },
     "execution_count": 23,
     "metadata": {},
     "output_type": "execute_result"
    }
   ],
   "source": [
    "#Convert Y to a binary response variable \n",
    "Y = Y_MinorityPct >= 0.9\n",
    "\n",
    "#Logisitic regression 10-fold cross-validation \n",
    "from sklearn.linear_model import LogisticRegression\n",
    "regEstimator = LogisticRegression()\n",
    "\n",
    "\n",
    "parameters = { 'penalty':['l2']\n",
    "              ,'C': [0.001, 0.01, 0.1, 1, 10, 100, 1000]\n",
    "              ,'class_weight': ['balanced'] #,'none']\n",
    "              ,'random_state': [0]\n",
    "              ,'solver': ['lbfgs']\n",
    "              ,'max_iter':[100,500]\n",
    "             }\n",
    "\n",
    "#Create a grid search object using the  \n",
    "from sklearn.model_selection import GridSearchCV\n",
    "regGridSearch = GridSearchCV(estimator=regEstimator\n",
    "                   , n_jobs=8 # jobs to run in parallel\n",
    "                   , verbose=1 # low verbosity\n",
    "                   , param_grid=parameters\n",
    "                   , cv=cv # KFolds = 10\n",
    "                   , scoring='accuracy')\n",
    "\n",
    "#Perform hyperparameter search to find the best combination of parameters for our data\n",
    "regGridSearch.fit(X_highSchools_Scl, Y)"
   ]
  },
  {
   "cell_type": "code",
   "execution_count": 24,
   "metadata": {
    "collapsed": false,
    "deletable": true,
    "editable": true
   },
   "outputs": [
    {
     "data": {
      "text/plain": [
       "LogisticRegression(C=1, class_weight='balanced', dual=False,\n",
       "          fit_intercept=True, intercept_scaling=1, max_iter=100,\n",
       "          multi_class='ovr', n_jobs=1, penalty='l2', random_state=0,\n",
       "          solver='lbfgs', tol=0.0001, verbose=0, warm_start=False)"
      ]
     },
     "execution_count": 24,
     "metadata": {},
     "output_type": "execute_result"
    }
   ],
   "source": [
    "#Display the best estimator parameters\n",
    "regGridSearch.best_estimator_"
   ]
  },
  {
   "cell_type": "code",
   "execution_count": 25,
   "metadata": {
    "collapsed": false,
    "deletable": true,
    "editable": true
   },
   "outputs": [
    {
     "name": "stdout",
     "output_type": "stream",
     "text": [
      "The average accuracy for all cv folds is: \t\t\t 0.91481\n",
      "The average precision for all cv folds is: \t\t\t 0.48\n",
      "The average recall for all cv folds is: \t\t\t 0.89571\n",
      "*********************************************************\n",
      "Cross Validation Fold Mean Error Scores\n"
     ]
    },
    {
     "data": {
      "text/html": [
       "<div>\n",
       "<style scoped>\n",
       "    .dataframe tbody tr th:only-of-type {\n",
       "        vertical-align: middle;\n",
       "    }\n",
       "\n",
       "    .dataframe tbody tr th {\n",
       "        vertical-align: top;\n",
       "    }\n",
       "\n",
       "    .dataframe thead th {\n",
       "        text-align: right;\n",
       "    }\n",
       "</style>\n",
       "<table border=\"1\" class=\"dataframe\">\n",
       "  <thead>\n",
       "    <tr style=\"text-align: right;\">\n",
       "      <th></th>\n",
       "      <th>Accuracy</th>\n",
       "      <th>Precision</th>\n",
       "      <th>Recall</th>\n",
       "    </tr>\n",
       "  </thead>\n",
       "  <tbody>\n",
       "    <tr>\n",
       "      <th>0</th>\n",
       "      <td>0.870370</td>\n",
       "      <td>0.400000</td>\n",
       "      <td>0.800000</td>\n",
       "    </tr>\n",
       "    <tr>\n",
       "      <th>1</th>\n",
       "      <td>0.944444</td>\n",
       "      <td>0.571429</td>\n",
       "      <td>1.000000</td>\n",
       "    </tr>\n",
       "    <tr>\n",
       "      <th>2</th>\n",
       "      <td>0.870370</td>\n",
       "      <td>0.500000</td>\n",
       "      <td>0.857143</td>\n",
       "    </tr>\n",
       "    <tr>\n",
       "      <th>3</th>\n",
       "      <td>0.888889</td>\n",
       "      <td>0.166667</td>\n",
       "      <td>0.500000</td>\n",
       "    </tr>\n",
       "    <tr>\n",
       "      <th>4</th>\n",
       "      <td>0.962963</td>\n",
       "      <td>0.750000</td>\n",
       "      <td>1.000000</td>\n",
       "    </tr>\n",
       "    <tr>\n",
       "      <th>5</th>\n",
       "      <td>0.925926</td>\n",
       "      <td>0.428571</td>\n",
       "      <td>1.000000</td>\n",
       "    </tr>\n",
       "    <tr>\n",
       "      <th>6</th>\n",
       "      <td>0.888889</td>\n",
       "      <td>0.400000</td>\n",
       "      <td>1.000000</td>\n",
       "    </tr>\n",
       "    <tr>\n",
       "      <th>7</th>\n",
       "      <td>0.962963</td>\n",
       "      <td>0.750000</td>\n",
       "      <td>1.000000</td>\n",
       "    </tr>\n",
       "    <tr>\n",
       "      <th>8</th>\n",
       "      <td>0.925926</td>\n",
       "      <td>0.333333</td>\n",
       "      <td>1.000000</td>\n",
       "    </tr>\n",
       "    <tr>\n",
       "      <th>9</th>\n",
       "      <td>0.907407</td>\n",
       "      <td>0.500000</td>\n",
       "      <td>0.800000</td>\n",
       "    </tr>\n",
       "  </tbody>\n",
       "</table>\n",
       "</div>"
      ],
      "text/plain": [
       "   Accuracy  Precision    Recall\n",
       "0  0.870370   0.400000  0.800000\n",
       "1  0.944444   0.571429  1.000000\n",
       "2  0.870370   0.500000  0.857143\n",
       "3  0.888889   0.166667  0.500000\n",
       "4  0.962963   0.750000  1.000000\n",
       "5  0.925926   0.428571  1.000000\n",
       "6  0.888889   0.400000  1.000000\n",
       "7  0.962963   0.750000  1.000000\n",
       "8  0.925926   0.333333  1.000000\n",
       "9  0.907407   0.500000  0.800000"
      ]
     },
     "execution_count": 25,
     "metadata": {},
     "output_type": "execute_result"
    }
   ],
   "source": [
    "#Use the best parameters for our Linear Regression object\n",
    "classifierEst = regGridSearch.best_estimator_\n",
    "\n",
    "#Evaluate the regression estimator above using our pre-defined cross validation and scoring metrics. \n",
    "EvaluateClassifierEstimator(classifierEst, X_highSchools_Scl, Y, cv)"
   ]
  },
  {
   "cell_type": "code",
   "execution_count": 26,
   "metadata": {
    "collapsed": false,
    "deletable": true,
    "editable": true
   },
   "outputs": [
    {
     "name": "stdout",
     "output_type": "stream",
     "text": [
      "             precision    recall  f1-score   support\n",
      "\n",
      "      False       0.98      0.86      0.92       488\n",
      "       True       0.37      0.81      0.50        47\n",
      "\n",
      "avg / total       0.93      0.86      0.88       535\n",
      "\n",
      "[[422  66]\n",
      " [  9  38]]\n",
      "0.8598130841121495\n"
     ]
    }
   ],
   "source": [
    "EvaluateClassifierEstimator2(classifierEst, X_highSchools_Scl, Y, 10)"
   ]
  },
  {
   "cell_type": "code",
   "execution_count": 27,
   "metadata": {
    "collapsed": false,
    "deletable": true,
    "editable": true
   },
   "outputs": [
    {
     "data": {
      "text/plain": [
       "False    488\n",
       "True      47\n",
       "Name: MinorityPct, dtype: int64"
      ]
     },
     "execution_count": 27,
     "metadata": {},
     "output_type": "execute_result"
    }
   ],
   "source": [
    "Y.value_counts()"
   ]
  },
  {
   "cell_type": "markdown",
   "metadata": {
    "collapsed": true,
    "deletable": true,
    "editable": true
   },
   "source": [
    "## Feature Importance for the Top Performing Model\n",
    "**Here we look at the features driving the top performing model's decisions.**\n",
    "* The top performing model predicts the minority percentage of public high schools with 95% accuracy.\n",
    "* All training data is scaled to remove differences in coefficient scales since many features have different dynamic ranges.\n",
    "* A final model is created using all the scaled training data.  \n",
    "* All model coefficients are sorted by absolute value in descending order.\n",
    "* Sorted coefficient values are plotted showing the top 75 features with the strongest positive and negative correlations. "
   ]
  },
  {
   "cell_type": "code",
   "execution_count": 28,
   "metadata": {
    "collapsed": false,
    "deletable": true,
    "editable": true
   },
   "outputs": [],
   "source": [
    "#Create a classification estimator with best parameters for cross validation\n",
    "classifierEst = regGridSearch.best_estimator_\n",
    "\n",
    "#Fit the model using all of the scaled training data\n",
    "classifierEst.fit(X_highSchools_Scl, Y)\n",
    "\n",
    "from sklearn.metrics import confusion_matrix"
   ]
  },
  {
   "cell_type": "code",
   "execution_count": 29,
   "metadata": {
    "collapsed": false,
    "deletable": true,
    "editable": true
   },
   "outputs": [],
   "source": [
    "#Load the model's coefficient weights and feature names into a dataframe sorted by weights\n",
    "weights = classifierEst.coef_.ravel()\n",
    "feature_names = X_highSchools.columns.values\n",
    "linreg_ft_imp_df = pd.DataFrame({'feature_names':feature_names, 'weights':weights, 'absolute_weights': np.abs(weights)})\n",
    "linreg_ft_imp_df.sort_values(by='absolute_weights', inplace=True, ascending=False )"
   ]
  },
  {
   "cell_type": "code",
   "execution_count": 30,
   "metadata": {
    "collapsed": false,
    "deletable": true,
    "editable": true
   },
   "outputs": [
    {
     "data": {
      "image/png": "[encoded data removed]",
      "text/plain": [
       "<matplotlib.figure.Figure at 0xe112400>"
      ]
     },
     "metadata": {},
     "output_type": "display_data"
    }
   ],
   "source": [
    "# Examine categorical variables of interest  \n",
    "import matplotlib.pyplot as plt\n",
    "%matplotlib inline\n",
    "\n",
    "#Plot the model's feature importances\n",
    "# REFERENCE:  Eric Larson, https://github.com/eclarson/DataMiningNotebooks\n",
    "plt.style.use('ggplot')\n",
    "\n",
    "wt_plt_df = linreg_ft_imp_df.head(75)\n",
    "\n",
    "weights = pd.Series(wt_plt_df['weights'].values,index=wt_plt_df['feature_names'])\n",
    "ax = weights.plot(kind='bar', figsize=(20,8))\n",
    "\n",
    "ax.set_title(\"Top Feature Correlations\")\n",
    "ax.set_ylabel(\"Coefficient Magnitude\\n(z-score)\")\n",
    "ax.set_xlabel(\"Feature Names\")\n",
    "plt.show()"
   ]
  },
  {
   "cell_type": "markdown",
   "metadata": {
    "collapsed": true,
    "deletable": true,
    "editable": true
   },
   "source": [
    "## Feature Importance Using Recursive Feature Elimination\n",
    "**Please see the following documentation for this section**\n",
    "* http://scikit-learn.org/stable/modules/generated/sklearn.feature_selection.RFE.html\n",
    "* http://scikit-learn.org/stable/auto_examples/feature_selection/plot_rfe_with_cross_validation.html\n",
    "* http://scikit-learn.org/stable/modules/generated/sklearn.feature_selection.RFECV.html#sklearn.feature_selection.RFECV\n",
    "* https://www.kaggle.com/arthurtok/feature-ranking-rfe-random-forest-linear-models"
   ]
  },
  {
   "cell_type": "code",
   "execution_count": 31,
   "metadata": {
    "collapsed": true,
    "deletable": true,
    "editable": true
   },
   "outputs": [],
   "source": [
    "#Convert Y to the top performing binary response \n",
    "Y = Y_MinorityPct >= 0.9"
   ]
  },
  {
   "cell_type": "code",
   "execution_count": 32,
   "metadata": {
    "collapsed": false,
    "deletable": true,
    "editable": true
   },
   "outputs": [
    {
     "data": {
      "text/plain": [
       "RFECV(cv=ShuffleSplit(n_splits=10, random_state=0, test_size=0.1, train_size=None),\n",
       "   estimator=LogisticRegression(C=1, class_weight='balanced', dual=False,\n",
       "          fit_intercept=True, intercept_scaling=1, max_iter=100,\n",
       "          multi_class='ovr', n_jobs=1, penalty='l2', random_state=0,\n",
       "          solver='lbfgs', tol=0.0001, verbose=0, warm_start=False),\n",
       "   n_jobs=1, scoring='accuracy', step=1, verbose=0)"
      ]
     },
     "execution_count": 32,
     "metadata": {},
     "output_type": "execute_result"
    }
   ],
   "source": [
    "from sklearn.feature_selection import RFECV\n",
    "\n",
    "#Create a regression estimator with best parameters for cross validation\n",
    "classifierEst = regGridSearch.best_estimator_\n",
    "\n",
    "rfecv = RFECV(estimator=classifierEst, step=1, cv=cv, scoring='accuracy')\n",
    "rfecv.fit(X_highSchools, Y)"
   ]
  },
  {
   "cell_type": "code",
   "execution_count": 33,
   "metadata": {
    "collapsed": false,
    "deletable": true,
    "editable": true
   },
   "outputs": [
    {
     "name": "stdout",
     "output_type": "stream",
     "text": [
      "Optimal number of features : 158\n"
     ]
    },
    {
     "data": {
      "image/png": "[encoded data removed]",
      "text/plain": [
       "<matplotlib.figure.Figure at 0xe35a6a0>"
      ]
     },
     "metadata": {},
     "output_type": "display_data"
    }
   ],
   "source": [
    "# Examine categorical variables of interest  \n",
    "import matplotlib.pyplot as plt\n",
    "%matplotlib inline\n",
    "\n",
    "print(\"Optimal number of features : %d\" % rfecv.n_features_)\n",
    "\n",
    "# Plot number of features VS. cross-validation scores\n",
    "plt.figure()\n",
    "plt.xlabel(\"Number of features selected\")\n",
    "plt.ylabel(\"Cross validation score (nb of correct classifications)\")\n",
    "plt.plot(range(1, len(rfecv.grid_scores_) + 1), rfecv.grid_scores_)\n",
    "plt.show()"
   ]
  },
  {
   "cell_type": "code",
   "execution_count": 34,
   "metadata": {
    "collapsed": false,
    "deletable": true,
    "editable": true
   },
   "outputs": [
    {
     "data": {
      "text/html": [
       "<div>\n",
       "<style scoped>\n",
       "    .dataframe tbody tr th:only-of-type {\n",
       "        vertical-align: middle;\n",
       "    }\n",
       "\n",
       "    .dataframe tbody tr th {\n",
       "        vertical-align: top;\n",
       "    }\n",
       "\n",
       "    .dataframe thead th {\n",
       "        text-align: right;\n",
       "    }\n",
       "</style>\n",
       "<table border=\"1\" class=\"dataframe\">\n",
       "  <thead>\n",
       "    <tr style=\"text-align: right;\">\n",
       "      <th></th>\n",
       "      <th>feature_names</th>\n",
       "      <th>weights</th>\n",
       "    </tr>\n",
       "  </thead>\n",
       "  <tbody>\n",
       "    <tr>\n",
       "      <th>157</th>\n",
       "      <td>lea_avg_daily_attend_pct</td>\n",
       "      <td>0.955556</td>\n",
       "    </tr>\n",
       "    <tr>\n",
       "      <th>169</th>\n",
       "      <td>lea_books_per_student</td>\n",
       "      <td>0.955556</td>\n",
       "    </tr>\n",
       "    <tr>\n",
       "      <th>170</th>\n",
       "      <td>wap_num</td>\n",
       "      <td>0.953704</td>\n",
       "    </tr>\n",
       "    <tr>\n",
       "      <th>184</th>\n",
       "      <td>lea_tchyrs_0thru3_pct</td>\n",
       "      <td>0.953704</td>\n",
       "    </tr>\n",
       "    <tr>\n",
       "      <th>185</th>\n",
       "      <td>lea_tchyrs_4thru10_pct</td>\n",
       "      <td>0.953704</td>\n",
       "    </tr>\n",
       "    <tr>\n",
       "      <th>171</th>\n",
       "      <td>wap_per_classroom</td>\n",
       "      <td>0.953704</td>\n",
       "    </tr>\n",
       "    <tr>\n",
       "      <th>204</th>\n",
       "      <td>4-10 Years_LEA_Exp_Pct_Prin</td>\n",
       "      <td>0.953704</td>\n",
       "    </tr>\n",
       "    <tr>\n",
       "      <th>168</th>\n",
       "      <td>lea_avg_age_media_collection</td>\n",
       "      <td>0.951852</td>\n",
       "    </tr>\n",
       "    <tr>\n",
       "      <th>167</th>\n",
       "      <td>books_per_student</td>\n",
       "      <td>0.951852</td>\n",
       "    </tr>\n",
       "    <tr>\n",
       "      <th>163</th>\n",
       "      <td>st_avg_daily_attend_pct</td>\n",
       "      <td>0.951852</td>\n",
       "    </tr>\n",
       "    <tr>\n",
       "      <th>161</th>\n",
       "      <td>lea_expelled_per_c_num</td>\n",
       "      <td>0.951852</td>\n",
       "    </tr>\n",
       "    <tr>\n",
       "      <th>174</th>\n",
       "      <td>flicensed_teach_pct</td>\n",
       "      <td>0.951852</td>\n",
       "    </tr>\n",
       "    <tr>\n",
       "      <th>179</th>\n",
       "      <td>advance_dgr_pct</td>\n",
       "      <td>0.951852</td>\n",
       "    </tr>\n",
       "    <tr>\n",
       "      <th>199</th>\n",
       "      <td>st_tchyrs_4thru10_pct</td>\n",
       "      <td>0.950000</td>\n",
       "    </tr>\n",
       "    <tr>\n",
       "      <th>198</th>\n",
       "      <td>st_tchyrs_0thru3_pct</td>\n",
       "      <td>0.950000</td>\n",
       "    </tr>\n",
       "    <tr>\n",
       "      <th>172</th>\n",
       "      <td>lea_wap_num</td>\n",
       "      <td>0.950000</td>\n",
       "    </tr>\n",
       "    <tr>\n",
       "      <th>173</th>\n",
       "      <td>lea_wap_per_classroom</td>\n",
       "      <td>0.950000</td>\n",
       "    </tr>\n",
       "    <tr>\n",
       "      <th>197</th>\n",
       "      <td>st_flicensed_teach_pct</td>\n",
       "      <td>0.950000</td>\n",
       "    </tr>\n",
       "    <tr>\n",
       "      <th>177</th>\n",
       "      <td>tchyrs_11plus_pct</td>\n",
       "      <td>0.950000</td>\n",
       "    </tr>\n",
       "    <tr>\n",
       "      <th>194</th>\n",
       "      <td>lea_highqual_class_all_pct</td>\n",
       "      <td>0.950000</td>\n",
       "    </tr>\n",
       "    <tr>\n",
       "      <th>206</th>\n",
       "      <td>Accomplished_TCHR_Standard 2_Pct</td>\n",
       "      <td>0.950000</td>\n",
       "    </tr>\n",
       "    <tr>\n",
       "      <th>207</th>\n",
       "      <td>Accomplished_TCHR_Standard 3_Pct</td>\n",
       "      <td>0.950000</td>\n",
       "    </tr>\n",
       "    <tr>\n",
       "      <th>208</th>\n",
       "      <td>Accomplished_TCHR_Standard 4_Pct</td>\n",
       "      <td>0.950000</td>\n",
       "    </tr>\n",
       "    <tr>\n",
       "      <th>193</th>\n",
       "      <td>lea_highqual_class_lp_pct</td>\n",
       "      <td>0.950000</td>\n",
       "    </tr>\n",
       "    <tr>\n",
       "      <th>178</th>\n",
       "      <td>nbpts_num</td>\n",
       "      <td>0.950000</td>\n",
       "    </tr>\n",
       "    <tr>\n",
       "      <th>209</th>\n",
       "      <td>Accomplished_TCHR_Standard 5_Pct</td>\n",
       "      <td>0.950000</td>\n",
       "    </tr>\n",
       "    <tr>\n",
       "      <th>189</th>\n",
       "      <td>lea_1yr_tchr_trnovr_pct</td>\n",
       "      <td>0.950000</td>\n",
       "    </tr>\n",
       "    <tr>\n",
       "      <th>211</th>\n",
       "      <td>Developing_TCHR_Standard 2_Pct</td>\n",
       "      <td>0.950000</td>\n",
       "    </tr>\n",
       "    <tr>\n",
       "      <th>181</th>\n",
       "      <td>lateral_teach_pct</td>\n",
       "      <td>0.950000</td>\n",
       "    </tr>\n",
       "    <tr>\n",
       "      <th>166</th>\n",
       "      <td>avg_age_media_collection</td>\n",
       "      <td>0.950000</td>\n",
       "    </tr>\n",
       "    <tr>\n",
       "      <th>158</th>\n",
       "      <td>lea_crime_per_c_num</td>\n",
       "      <td>0.950000</td>\n",
       "    </tr>\n",
       "    <tr>\n",
       "      <th>215</th>\n",
       "      <td>Distinguished_TCHR_Standard 1_Pct</td>\n",
       "      <td>0.950000</td>\n",
       "    </tr>\n",
       "    <tr>\n",
       "      <th>135</th>\n",
       "      <td>EOGGr7_CACR_AIG</td>\n",
       "      <td>0.950000</td>\n",
       "    </tr>\n",
       "    <tr>\n",
       "      <th>155</th>\n",
       "      <td>expelled_per_c_num</td>\n",
       "      <td>0.950000</td>\n",
       "    </tr>\n",
       "    <tr>\n",
       "      <th>164</th>\n",
       "      <td>st_crime_per_c_num</td>\n",
       "      <td>0.950000</td>\n",
       "    </tr>\n",
       "    <tr>\n",
       "      <th>131</th>\n",
       "      <td>EOGScienceGr8_CACR_SWD</td>\n",
       "      <td>0.950000</td>\n",
       "    </tr>\n",
       "    <tr>\n",
       "      <th>165</th>\n",
       "      <td>digital_media_pct</td>\n",
       "      <td>0.948148</td>\n",
       "    </tr>\n",
       "    <tr>\n",
       "      <th>195</th>\n",
       "      <td>lea_not_highqual_class_hp_pct</td>\n",
       "      <td>0.948148</td>\n",
       "    </tr>\n",
       "    <tr>\n",
       "      <th>182</th>\n",
       "      <td>highqual_class_pct</td>\n",
       "      <td>0.948148</td>\n",
       "    </tr>\n",
       "    <tr>\n",
       "      <th>149</th>\n",
       "      <td>lea_ap_participation_pct</td>\n",
       "      <td>0.948148</td>\n",
       "    </tr>\n",
       "    <tr>\n",
       "      <th>186</th>\n",
       "      <td>lea_tchyrs_11plus_pct</td>\n",
       "      <td>0.948148</td>\n",
       "    </tr>\n",
       "    <tr>\n",
       "      <th>187</th>\n",
       "      <td>lea_nbpts_num</td>\n",
       "      <td>0.948148</td>\n",
       "    </tr>\n",
       "    <tr>\n",
       "      <th>188</th>\n",
       "      <td>lea_advance_dgr_pct</td>\n",
       "      <td>0.948148</td>\n",
       "    </tr>\n",
       "    <tr>\n",
       "      <th>144</th>\n",
       "      <td>MathGr3-8_pTarget_PctMet</td>\n",
       "      <td>0.948148</td>\n",
       "    </tr>\n",
       "    <tr>\n",
       "      <th>191</th>\n",
       "      <td>lea_highqual_class_pct</td>\n",
       "      <td>0.948148</td>\n",
       "    </tr>\n",
       "    <tr>\n",
       "      <th>237</th>\n",
       "      <td>TwoOrMorePct</td>\n",
       "      <td>0.948148</td>\n",
       "    </tr>\n",
       "    <tr>\n",
       "      <th>219</th>\n",
       "      <td>Distinguished_TCHR_Standard 5_Pct</td>\n",
       "      <td>0.948148</td>\n",
       "    </tr>\n",
       "    <tr>\n",
       "      <th>212</th>\n",
       "      <td>Developing_TCHR_Standard 3_Pct</td>\n",
       "      <td>0.948148</td>\n",
       "    </tr>\n",
       "    <tr>\n",
       "      <th>213</th>\n",
       "      <td>Developing_TCHR_Standard 4_Pct</td>\n",
       "      <td>0.948148</td>\n",
       "    </tr>\n",
       "    <tr>\n",
       "      <th>154</th>\n",
       "      <td>long_susp_per_c_num</td>\n",
       "      <td>0.948148</td>\n",
       "    </tr>\n",
       "  </tbody>\n",
       "</table>\n",
       "</div>"
      ],
      "text/plain": [
       "                         feature_names   weights\n",
       "157           lea_avg_daily_attend_pct  0.955556\n",
       "169              lea_books_per_student  0.955556\n",
       "170                            wap_num  0.953704\n",
       "184              lea_tchyrs_0thru3_pct  0.953704\n",
       "185             lea_tchyrs_4thru10_pct  0.953704\n",
       "171                  wap_per_classroom  0.953704\n",
       "204        4-10 Years_LEA_Exp_Pct_Prin  0.953704\n",
       "168       lea_avg_age_media_collection  0.951852\n",
       "167                  books_per_student  0.951852\n",
       "163            st_avg_daily_attend_pct  0.951852\n",
       "161             lea_expelled_per_c_num  0.951852\n",
       "174                flicensed_teach_pct  0.951852\n",
       "179                    advance_dgr_pct  0.951852\n",
       "199              st_tchyrs_4thru10_pct  0.950000\n",
       "198               st_tchyrs_0thru3_pct  0.950000\n",
       "172                        lea_wap_num  0.950000\n",
       "173              lea_wap_per_classroom  0.950000\n",
       "197             st_flicensed_teach_pct  0.950000\n",
       "177                  tchyrs_11plus_pct  0.950000\n",
       "194         lea_highqual_class_all_pct  0.950000\n",
       "206   Accomplished_TCHR_Standard 2_Pct  0.950000\n",
       "207   Accomplished_TCHR_Standard 3_Pct  0.950000\n",
       "208   Accomplished_TCHR_Standard 4_Pct  0.950000\n",
       "193          lea_highqual_class_lp_pct  0.950000\n",
       "178                          nbpts_num  0.950000\n",
       "209   Accomplished_TCHR_Standard 5_Pct  0.950000\n",
       "189            lea_1yr_tchr_trnovr_pct  0.950000\n",
       "211     Developing_TCHR_Standard 2_Pct  0.950000\n",
       "181                  lateral_teach_pct  0.950000\n",
       "166           avg_age_media_collection  0.950000\n",
       "158                lea_crime_per_c_num  0.950000\n",
       "215  Distinguished_TCHR_Standard 1_Pct  0.950000\n",
       "135                    EOGGr7_CACR_AIG  0.950000\n",
       "155                 expelled_per_c_num  0.950000\n",
       "164                 st_crime_per_c_num  0.950000\n",
       "131             EOGScienceGr8_CACR_SWD  0.950000\n",
       "165                  digital_media_pct  0.948148\n",
       "195      lea_not_highqual_class_hp_pct  0.948148\n",
       "182                 highqual_class_pct  0.948148\n",
       "149           lea_ap_participation_pct  0.948148\n",
       "186              lea_tchyrs_11plus_pct  0.948148\n",
       "187                      lea_nbpts_num  0.948148\n",
       "188                lea_advance_dgr_pct  0.948148\n",
       "144           MathGr3-8_pTarget_PctMet  0.948148\n",
       "191             lea_highqual_class_pct  0.948148\n",
       "237                       TwoOrMorePct  0.948148\n",
       "219  Distinguished_TCHR_Standard 5_Pct  0.948148\n",
       "212     Developing_TCHR_Standard 3_Pct  0.948148\n",
       "213     Developing_TCHR_Standard 4_Pct  0.948148\n",
       "154                long_susp_per_c_num  0.948148"
      ]
     },
     "execution_count": 34,
     "metadata": {},
     "output_type": "execute_result"
    }
   ],
   "source": [
    "#Plot the RFE Rankings\n",
    "plt.style.use('ggplot')\n",
    "\n",
    "rfe_ft_imp_df = pd.DataFrame({'feature_names':X_highSchools.columns, 'weights':rfecv.grid_scores_})\n",
    "rfe_ft_imp_df.sort_values(by='weights', inplace=True, ascending=False )\n",
    "\n",
    "top50features = rfe_ft_imp_df.head(50)\n",
    "\n",
    "top50features"
   ]
  },
  {
   "cell_type": "code",
   "execution_count": null,
   "metadata": {
    "collapsed": true,
    "deletable": true,
    "editable": true
   },
   "outputs": [],
   "source": []
  }
 ],
 "metadata": {
  "kernelspec": {
   "display_name": "Python 2",
   "language": "python",
   "name": "python2"
  },
  "language_info": {
   "codemirror_mode": {
    "name": "ipython",
    "version": 2
   },
   "file_extension": ".py",
   "mimetype": "text/x-python",
   "name": "python",
   "nbconvert_exporter": "python",
   "pygments_lexer": "ipython2",
   "version": "2.7.11"
  }
 },
 "nbformat": 4,
 "nbformat_minor": 0
}
